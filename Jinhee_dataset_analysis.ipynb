{
 "cells": [
  {
   "cell_type": "markdown",
   "metadata": {},
   "source": [
    "https://www.kaggle.com/jessevent/all-crypto-currencies/data"
   ]
  },
  {
   "cell_type": "markdown",
   "metadata": {},
   "source": [
    "Observations: 785,024 Variables: 13 Crypto Tokens: 1,644\n",
    "All historic open, high, low, close values for all cryptocurrencies.\n",
    "\n",
    "* Fixed duplicate coins sharing symbol by introducing coin slug\n",
    "* Data current as of 21 May 2018\n",
    "* Added two new variables, close_ratio and spread\n",
    "* Close ratio is the daily close rate, min-maxed with the high and low values for the day. <br>\n",
    "Close Ratio = (Close-Low)/(High-Low)\n",
    "* Spread is the $USD difference between the high and low values for the day."
   ]
  },
  {
   "cell_type": "markdown",
   "metadata": {},
   "source": [
    "* slug: 표기 이름\n",
    "* symbol: 표기 약칭\n",
    "* name: 정식 이름\n",
    "* date: 거래일자\n",
    "* rank: 마켓 순위 (Volume기준)\n",
    "* open: 시작 가격\n",
    "* high: 당일 최고가\n",
    "* low: 당일 최저가\n",
    "* close: 마감 가격\n",
    "* volume: 거래량\n",
    "* market: 마켓 내 총 수량\n",
    "* close_ratio: 당일 마감 비율\n",
    "    (close - low) / (high - low)\n",
    "* spread: 당일 최고가와 최저가의 차이"
   ]
  },
  {
   "cell_type": "code",
   "execution_count": 1,
   "metadata": {},
   "outputs": [],
   "source": [
    "from IPython.core.interactiveshell import InteractiveShell\n",
    "InteractiveShell.ast_node_interactivity = \"all\" #'last' 기본값"
   ]
  },
  {
   "cell_type": "code",
   "execution_count": 2,
   "metadata": {},
   "outputs": [],
   "source": [
    "%matplotlib inline\n",
    "import pandas as pd\n",
    "import numpy as np\n",
    "import seaborn as sns"
   ]
  },
  {
   "cell_type": "code",
   "execution_count": 3,
   "metadata": {},
   "outputs": [
    {
     "name": "stdout",
     "output_type": "stream",
     "text": [
      "Cryptocurrency Price.ipynb  crypto-markets.csv\r\n"
     ]
    }
   ],
   "source": [
    "%ls"
   ]
  },
  {
   "cell_type": "code",
   "execution_count": 4,
   "metadata": {},
   "outputs": [
    {
     "data": {
      "text/html": [
       "<div>\n",
       "<style scoped>\n",
       "    .dataframe tbody tr th:only-of-type {\n",
       "        vertical-align: middle;\n",
       "    }\n",
       "\n",
       "    .dataframe tbody tr th {\n",
       "        vertical-align: top;\n",
       "    }\n",
       "\n",
       "    .dataframe thead th {\n",
       "        text-align: right;\n",
       "    }\n",
       "</style>\n",
       "<table border=\"1\" class=\"dataframe\">\n",
       "  <thead>\n",
       "    <tr style=\"text-align: right;\">\n",
       "      <th></th>\n",
       "      <th>slug</th>\n",
       "      <th>symbol</th>\n",
       "      <th>name</th>\n",
       "      <th>date</th>\n",
       "      <th>ranknow</th>\n",
       "      <th>open</th>\n",
       "      <th>high</th>\n",
       "      <th>low</th>\n",
       "      <th>close</th>\n",
       "      <th>volume</th>\n",
       "      <th>market</th>\n",
       "      <th>close_ratio</th>\n",
       "      <th>spread</th>\n",
       "    </tr>\n",
       "  </thead>\n",
       "  <tbody>\n",
       "    <tr>\n",
       "      <th>0</th>\n",
       "      <td>bitcoin</td>\n",
       "      <td>BTC</td>\n",
       "      <td>Bitcoin</td>\n",
       "      <td>2013-04-28</td>\n",
       "      <td>1</td>\n",
       "      <td>135.30</td>\n",
       "      <td>135.98</td>\n",
       "      <td>132.10</td>\n",
       "      <td>134.21</td>\n",
       "      <td>0.0</td>\n",
       "      <td>1.500520e+09</td>\n",
       "      <td>0.5438</td>\n",
       "      <td>3.88</td>\n",
       "    </tr>\n",
       "    <tr>\n",
       "      <th>1</th>\n",
       "      <td>bitcoin</td>\n",
       "      <td>BTC</td>\n",
       "      <td>Bitcoin</td>\n",
       "      <td>2013-04-29</td>\n",
       "      <td>1</td>\n",
       "      <td>134.44</td>\n",
       "      <td>147.49</td>\n",
       "      <td>134.00</td>\n",
       "      <td>144.54</td>\n",
       "      <td>0.0</td>\n",
       "      <td>1.491160e+09</td>\n",
       "      <td>0.7813</td>\n",
       "      <td>13.49</td>\n",
       "    </tr>\n",
       "    <tr>\n",
       "      <th>2</th>\n",
       "      <td>bitcoin</td>\n",
       "      <td>BTC</td>\n",
       "      <td>Bitcoin</td>\n",
       "      <td>2013-04-30</td>\n",
       "      <td>1</td>\n",
       "      <td>144.00</td>\n",
       "      <td>146.93</td>\n",
       "      <td>134.05</td>\n",
       "      <td>139.00</td>\n",
       "      <td>0.0</td>\n",
       "      <td>1.597780e+09</td>\n",
       "      <td>0.3843</td>\n",
       "      <td>12.88</td>\n",
       "    </tr>\n",
       "    <tr>\n",
       "      <th>3</th>\n",
       "      <td>bitcoin</td>\n",
       "      <td>BTC</td>\n",
       "      <td>Bitcoin</td>\n",
       "      <td>2013-05-01</td>\n",
       "      <td>1</td>\n",
       "      <td>139.00</td>\n",
       "      <td>139.89</td>\n",
       "      <td>107.72</td>\n",
       "      <td>116.99</td>\n",
       "      <td>0.0</td>\n",
       "      <td>1.542820e+09</td>\n",
       "      <td>0.2882</td>\n",
       "      <td>32.17</td>\n",
       "    </tr>\n",
       "    <tr>\n",
       "      <th>4</th>\n",
       "      <td>bitcoin</td>\n",
       "      <td>BTC</td>\n",
       "      <td>Bitcoin</td>\n",
       "      <td>2013-05-02</td>\n",
       "      <td>1</td>\n",
       "      <td>116.38</td>\n",
       "      <td>125.60</td>\n",
       "      <td>92.28</td>\n",
       "      <td>105.21</td>\n",
       "      <td>0.0</td>\n",
       "      <td>1.292190e+09</td>\n",
       "      <td>0.3881</td>\n",
       "      <td>33.32</td>\n",
       "    </tr>\n",
       "  </tbody>\n",
       "</table>\n",
       "</div>"
      ],
      "text/plain": [
       "      slug symbol     name        date  ranknow    open    high     low  \\\n",
       "0  bitcoin    BTC  Bitcoin  2013-04-28        1  135.30  135.98  132.10   \n",
       "1  bitcoin    BTC  Bitcoin  2013-04-29        1  134.44  147.49  134.00   \n",
       "2  bitcoin    BTC  Bitcoin  2013-04-30        1  144.00  146.93  134.05   \n",
       "3  bitcoin    BTC  Bitcoin  2013-05-01        1  139.00  139.89  107.72   \n",
       "4  bitcoin    BTC  Bitcoin  2013-05-02        1  116.38  125.60   92.28   \n",
       "\n",
       "    close  volume        market  close_ratio  spread  \n",
       "0  134.21     0.0  1.500520e+09       0.5438    3.88  \n",
       "1  144.54     0.0  1.491160e+09       0.7813   13.49  \n",
       "2  139.00     0.0  1.597780e+09       0.3843   12.88  \n",
       "3  116.99     0.0  1.542820e+09       0.2882   32.17  \n",
       "4  105.21     0.0  1.292190e+09       0.3881   33.32  "
      ]
     },
     "execution_count": 4,
     "metadata": {},
     "output_type": "execute_result"
    }
   ],
   "source": [
    "origin = pd.read_csv(\"crypto-markets.csv\")\n",
    "origin.head()"
   ]
  },
  {
   "cell_type": "code",
   "execution_count": 5,
   "metadata": {},
   "outputs": [
    {
     "name": "stdout",
     "output_type": "stream",
     "text": [
      "<class 'pandas.core.frame.DataFrame'>\n",
      "RangeIndex: 785024 entries, 0 to 785023\n",
      "Data columns (total 13 columns):\n",
      "slug           785024 non-null object\n",
      "symbol         785024 non-null object\n",
      "name           785024 non-null object\n",
      "date           785024 non-null object\n",
      "ranknow        785024 non-null int64\n",
      "open           785024 non-null float64\n",
      "high           785024 non-null float64\n",
      "low            785024 non-null float64\n",
      "close          785024 non-null float64\n",
      "volume         785024 non-null float64\n",
      "market         785024 non-null float64\n",
      "close_ratio    785024 non-null float64\n",
      "spread         785024 non-null float64\n",
      "dtypes: float64(8), int64(1), object(4)\n",
      "memory usage: 77.9+ MB\n"
     ]
    }
   ],
   "source": [
    "origin.info()"
   ]
  },
  {
   "cell_type": "code",
   "execution_count": 6,
   "metadata": {},
   "outputs": [
    {
     "data": {
      "text/plain": [
       "785024"
      ]
     },
     "execution_count": 6,
     "metadata": {},
     "output_type": "execute_result"
    }
   ],
   "source": [
    "len(origin)"
   ]
  },
  {
   "cell_type": "code",
   "execution_count": 7,
   "metadata": {},
   "outputs": [
    {
     "data": {
      "text/html": [
       "<div>\n",
       "<style scoped>\n",
       "    .dataframe tbody tr th:only-of-type {\n",
       "        vertical-align: middle;\n",
       "    }\n",
       "\n",
       "    .dataframe tbody tr th {\n",
       "        vertical-align: top;\n",
       "    }\n",
       "\n",
       "    .dataframe thead th {\n",
       "        text-align: right;\n",
       "    }\n",
       "</style>\n",
       "<table border=\"1\" class=\"dataframe\">\n",
       "  <thead>\n",
       "    <tr style=\"text-align: right;\">\n",
       "      <th></th>\n",
       "      <th>ranknow</th>\n",
       "      <th>open</th>\n",
       "      <th>high</th>\n",
       "      <th>low</th>\n",
       "      <th>close</th>\n",
       "      <th>volume</th>\n",
       "      <th>market</th>\n",
       "      <th>close_ratio</th>\n",
       "      <th>spread</th>\n",
       "    </tr>\n",
       "  </thead>\n",
       "  <tbody>\n",
       "    <tr>\n",
       "      <th>count</th>\n",
       "      <td>785024.000000</td>\n",
       "      <td>7.850240e+05</td>\n",
       "      <td>7.850240e+05</td>\n",
       "      <td>7.850240e+05</td>\n",
       "      <td>7.850240e+05</td>\n",
       "      <td>7.850240e+05</td>\n",
       "      <td>7.850240e+05</td>\n",
       "      <td>7.850240e+05</td>\n",
       "      <td>7.850240e+05</td>\n",
       "    </tr>\n",
       "    <tr>\n",
       "      <th>mean</th>\n",
       "      <td>842.650876</td>\n",
       "      <td>3.550859e+02</td>\n",
       "      <td>4.233219e+02</td>\n",
       "      <td>2.980848e+02</td>\n",
       "      <td>3.536499e+02</td>\n",
       "      <td>7.459260e+06</td>\n",
       "      <td>1.563100e+08</td>\n",
       "      <td>-inf</td>\n",
       "      <td>1.252368e+02</td>\n",
       "    </tr>\n",
       "    <tr>\n",
       "      <th>std</th>\n",
       "      <td>452.624872</td>\n",
       "      <td>1.403939e+04</td>\n",
       "      <td>1.733459e+04</td>\n",
       "      <td>1.157055e+04</td>\n",
       "      <td>1.396510e+04</td>\n",
       "      <td>1.817992e+08</td>\n",
       "      <td>3.478147e+09</td>\n",
       "      <td>NaN</td>\n",
       "      <td>7.379191e+03</td>\n",
       "    </tr>\n",
       "    <tr>\n",
       "      <th>min</th>\n",
       "      <td>1.000000</td>\n",
       "      <td>2.500000e-09</td>\n",
       "      <td>3.200000e-09</td>\n",
       "      <td>9.200000e-14</td>\n",
       "      <td>0.000000e+00</td>\n",
       "      <td>0.000000e+00</td>\n",
       "      <td>0.000000e+00</td>\n",
       "      <td>-inf</td>\n",
       "      <td>0.000000e+00</td>\n",
       "    </tr>\n",
       "    <tr>\n",
       "      <th>25%</th>\n",
       "      <td>472.000000</td>\n",
       "      <td>1.117000e-03</td>\n",
       "      <td>1.305000e-03</td>\n",
       "      <td>9.630000e-04</td>\n",
       "      <td>1.119000e-03</td>\n",
       "      <td>6.400000e+01</td>\n",
       "      <td>1.294600e+04</td>\n",
       "      <td>1.552000e-01</td>\n",
       "      <td>0.000000e+00</td>\n",
       "    </tr>\n",
       "    <tr>\n",
       "      <th>50%</th>\n",
       "      <td>910.000000</td>\n",
       "      <td>1.723150e-02</td>\n",
       "      <td>1.980350e-02</td>\n",
       "      <td>1.511100e-02</td>\n",
       "      <td>1.723000e-02</td>\n",
       "      <td>1.201000e+03</td>\n",
       "      <td>1.932045e+05</td>\n",
       "      <td>4.342000e-01</td>\n",
       "      <td>0.000000e+00</td>\n",
       "    </tr>\n",
       "    <tr>\n",
       "      <th>75%</th>\n",
       "      <td>1185.000000</td>\n",
       "      <td>2.159187e-01</td>\n",
       "      <td>2.424478e-01</td>\n",
       "      <td>1.915900e-01</td>\n",
       "      <td>2.156592e-01</td>\n",
       "      <td>3.963225e+04</td>\n",
       "      <td>3.635550e+06</td>\n",
       "      <td>7.586000e-01</td>\n",
       "      <td>4.000000e-02</td>\n",
       "    </tr>\n",
       "    <tr>\n",
       "      <th>max</th>\n",
       "      <td>1645.000000</td>\n",
       "      <td>2.298390e+06</td>\n",
       "      <td>2.926100e+06</td>\n",
       "      <td>2.030590e+06</td>\n",
       "      <td>2.300740e+06</td>\n",
       "      <td>2.384090e+10</td>\n",
       "      <td>3.261410e+11</td>\n",
       "      <td>1.000000e+00</td>\n",
       "      <td>1.770563e+06</td>\n",
       "    </tr>\n",
       "  </tbody>\n",
       "</table>\n",
       "</div>"
      ],
      "text/plain": [
       "             ranknow          open          high           low         close  \\\n",
       "count  785024.000000  7.850240e+05  7.850240e+05  7.850240e+05  7.850240e+05   \n",
       "mean      842.650876  3.550859e+02  4.233219e+02  2.980848e+02  3.536499e+02   \n",
       "std       452.624872  1.403939e+04  1.733459e+04  1.157055e+04  1.396510e+04   \n",
       "min         1.000000  2.500000e-09  3.200000e-09  9.200000e-14  0.000000e+00   \n",
       "25%       472.000000  1.117000e-03  1.305000e-03  9.630000e-04  1.119000e-03   \n",
       "50%       910.000000  1.723150e-02  1.980350e-02  1.511100e-02  1.723000e-02   \n",
       "75%      1185.000000  2.159187e-01  2.424478e-01  1.915900e-01  2.156592e-01   \n",
       "max      1645.000000  2.298390e+06  2.926100e+06  2.030590e+06  2.300740e+06   \n",
       "\n",
       "             volume        market   close_ratio        spread  \n",
       "count  7.850240e+05  7.850240e+05  7.850240e+05  7.850240e+05  \n",
       "mean   7.459260e+06  1.563100e+08          -inf  1.252368e+02  \n",
       "std    1.817992e+08  3.478147e+09           NaN  7.379191e+03  \n",
       "min    0.000000e+00  0.000000e+00          -inf  0.000000e+00  \n",
       "25%    6.400000e+01  1.294600e+04  1.552000e-01  0.000000e+00  \n",
       "50%    1.201000e+03  1.932045e+05  4.342000e-01  0.000000e+00  \n",
       "75%    3.963225e+04  3.635550e+06  7.586000e-01  4.000000e-02  \n",
       "max    2.384090e+10  3.261410e+11  1.000000e+00  1.770563e+06  "
      ]
     },
     "execution_count": 7,
     "metadata": {},
     "output_type": "execute_result"
    }
   ],
   "source": [
    "origin.describe()"
   ]
  },
  {
   "cell_type": "code",
   "execution_count": 8,
   "metadata": {},
   "outputs": [
    {
     "data": {
      "text/plain": [
       "1644"
      ]
     },
     "execution_count": 8,
     "metadata": {},
     "output_type": "execute_result"
    },
    {
     "data": {
      "text/plain": [
       "1605"
      ]
     },
     "execution_count": 8,
     "metadata": {},
     "output_type": "execute_result"
    },
    {
     "data": {
      "text/plain": [
       "1643"
      ]
     },
     "execution_count": 8,
     "metadata": {},
     "output_type": "execute_result"
    }
   ],
   "source": [
    "len(origin.slug.unique())\n",
    "len(origin.symbol.unique())\n",
    "len(origin.name.unique())"
   ]
  },
  {
   "cell_type": "code",
   "execution_count": 9,
   "metadata": {
    "scrolled": true
   },
   "outputs": [
    {
     "data": {
      "text/plain": [
       "HempCoin           2221\n",
       "Litecoin           1866\n",
       "Bitcoin            1866\n",
       "Namecoin           1866\n",
       "Novacoin           1865\n",
       "Peercoin           1865\n",
       "Feathercoin        1861\n",
       "Terracoin          1851\n",
       "BitBar             1838\n",
       "WorldCoin          1827\n",
       "Digitalcoin        1823\n",
       "GoldCoin           1812\n",
       "Primecoin          1792\n",
       "Megacoin           1791\n",
       "Anoncoin           1772\n",
       "Ripple             1768\n",
       "Freicoin           1767\n",
       "Ixcoin             1764\n",
       "Bullion            1763\n",
       "Infinitecoin       1754\n",
       "Quark              1745\n",
       "Phoenixcoin        1731\n",
       "Zetacoin           1727\n",
       "Fastcoin           1700\n",
       "TagCoin            1675\n",
       "Argentum           1664\n",
       "FlorinCoin         1653\n",
       "CasinoCoin         1652\n",
       "Nxt                1646\n",
       "Deutsche eMark     1635\n",
       "                   ... \n",
       "Digitex Futures      15\n",
       "RED                  15\n",
       "Aston                14\n",
       "IoTeX                13\n",
       "Naviaddress          10\n",
       "Eximchain            10\n",
       "SPINDLE              10\n",
       "Level Up Coin        10\n",
       "ZIP                  10\n",
       "Travala              10\n",
       "NKN                  10\n",
       "Faceter              10\n",
       "Phantasma            10\n",
       "REPO                 10\n",
       "Nectar                8\n",
       "ContractNet           7\n",
       "EJOY                  7\n",
       "Ivy                   7\n",
       "Seele                 7\n",
       "Endor Protocol        7\n",
       "Shopin                3\n",
       "0xBitcoin             3\n",
       "QuarkChain            3\n",
       "Bigbom                3\n",
       "PCHAIN                3\n",
       "Ether Zero            2\n",
       "LoyalCoin             2\n",
       "Bankera               2\n",
       "Cryptaur              2\n",
       "MEDX                  1\n",
       "Name: name, Length: 1643, dtype: int64"
      ]
     },
     "execution_count": 9,
     "metadata": {},
     "output_type": "execute_result"
    }
   ],
   "source": [
    "origin.name.value_counts()"
   ]
  },
  {
   "cell_type": "code",
   "execution_count": 10,
   "metadata": {},
   "outputs": [
    {
     "data": {
      "text/plain": [
       "array(['hempcoin', 'hempcoin-hmp'], dtype=object)"
      ]
     },
     "execution_count": 10,
     "metadata": {},
     "output_type": "execute_result"
    }
   ],
   "source": [
    "origin[origin.name=='HempCoin']['slug'].unique()"
   ]
  },
  {
   "cell_type": "code",
   "execution_count": 11,
   "metadata": {},
   "outputs": [
    {
     "data": {
      "text/html": [
       "<div>\n",
       "<style scoped>\n",
       "    .dataframe tbody tr th:only-of-type {\n",
       "        vertical-align: middle;\n",
       "    }\n",
       "\n",
       "    .dataframe tbody tr th {\n",
       "        vertical-align: top;\n",
       "    }\n",
       "\n",
       "    .dataframe thead th {\n",
       "        text-align: right;\n",
       "    }\n",
       "</style>\n",
       "<table border=\"1\" class=\"dataframe\">\n",
       "  <thead>\n",
       "    <tr style=\"text-align: right;\">\n",
       "      <th></th>\n",
       "      <th>slug</th>\n",
       "      <th>symbol</th>\n",
       "      <th>name</th>\n",
       "      <th>date</th>\n",
       "      <th>ranknow</th>\n",
       "      <th>open</th>\n",
       "      <th>high</th>\n",
       "      <th>low</th>\n",
       "      <th>close</th>\n",
       "      <th>volume</th>\n",
       "      <th>market</th>\n",
       "      <th>close_ratio</th>\n",
       "      <th>spread</th>\n",
       "    </tr>\n",
       "  </thead>\n",
       "  <tbody>\n",
       "    <tr>\n",
       "      <th>167299</th>\n",
       "      <td>hempcoin</td>\n",
       "      <td>THC</td>\n",
       "      <td>HempCoin</td>\n",
       "      <td>2014-06-28</td>\n",
       "      <td>401</td>\n",
       "      <td>0.000102</td>\n",
       "      <td>0.000108</td>\n",
       "      <td>0.000030</td>\n",
       "      <td>0.000030</td>\n",
       "      <td>19.0</td>\n",
       "      <td>9857.0</td>\n",
       "      <td>0.0000</td>\n",
       "      <td>0.0</td>\n",
       "    </tr>\n",
       "    <tr>\n",
       "      <th>167300</th>\n",
       "      <td>hempcoin</td>\n",
       "      <td>THC</td>\n",
       "      <td>HempCoin</td>\n",
       "      <td>2014-06-29</td>\n",
       "      <td>401</td>\n",
       "      <td>0.000030</td>\n",
       "      <td>0.000169</td>\n",
       "      <td>0.000030</td>\n",
       "      <td>0.000169</td>\n",
       "      <td>23.0</td>\n",
       "      <td>2897.0</td>\n",
       "      <td>1.0000</td>\n",
       "      <td>0.0</td>\n",
       "    </tr>\n",
       "    <tr>\n",
       "      <th>167301</th>\n",
       "      <td>hempcoin</td>\n",
       "      <td>THC</td>\n",
       "      <td>HempCoin</td>\n",
       "      <td>2014-06-30</td>\n",
       "      <td>401</td>\n",
       "      <td>0.000169</td>\n",
       "      <td>0.000299</td>\n",
       "      <td>0.000102</td>\n",
       "      <td>0.000256</td>\n",
       "      <td>283.0</td>\n",
       "      <td>16501.0</td>\n",
       "      <td>0.7817</td>\n",
       "      <td>0.0</td>\n",
       "    </tr>\n",
       "    <tr>\n",
       "      <th>167302</th>\n",
       "      <td>hempcoin</td>\n",
       "      <td>THC</td>\n",
       "      <td>HempCoin</td>\n",
       "      <td>2014-07-01</td>\n",
       "      <td>401</td>\n",
       "      <td>0.000256</td>\n",
       "      <td>0.000362</td>\n",
       "      <td>0.000244</td>\n",
       "      <td>0.000301</td>\n",
       "      <td>400.0</td>\n",
       "      <td>25146.0</td>\n",
       "      <td>0.4831</td>\n",
       "      <td>0.0</td>\n",
       "    </tr>\n",
       "    <tr>\n",
       "      <th>167303</th>\n",
       "      <td>hempcoin</td>\n",
       "      <td>THC</td>\n",
       "      <td>HempCoin</td>\n",
       "      <td>2014-07-02</td>\n",
       "      <td>401</td>\n",
       "      <td>0.000301</td>\n",
       "      <td>0.000326</td>\n",
       "      <td>0.000169</td>\n",
       "      <td>0.000169</td>\n",
       "      <td>109.0</td>\n",
       "      <td>29754.0</td>\n",
       "      <td>0.0000</td>\n",
       "      <td>0.0</td>\n",
       "    </tr>\n",
       "    <tr>\n",
       "      <th>167304</th>\n",
       "      <td>hempcoin</td>\n",
       "      <td>THC</td>\n",
       "      <td>HempCoin</td>\n",
       "      <td>2014-07-03</td>\n",
       "      <td>401</td>\n",
       "      <td>0.000325</td>\n",
       "      <td>0.001250</td>\n",
       "      <td>0.000180</td>\n",
       "      <td>0.000709</td>\n",
       "      <td>1019.0</td>\n",
       "      <td>32256.0</td>\n",
       "      <td>0.4944</td>\n",
       "      <td>0.0</td>\n",
       "    </tr>\n",
       "    <tr>\n",
       "      <th>167305</th>\n",
       "      <td>hempcoin</td>\n",
       "      <td>THC</td>\n",
       "      <td>HempCoin</td>\n",
       "      <td>2014-07-04</td>\n",
       "      <td>401</td>\n",
       "      <td>0.000710</td>\n",
       "      <td>0.001064</td>\n",
       "      <td>0.000291</td>\n",
       "      <td>0.000568</td>\n",
       "      <td>830.0</td>\n",
       "      <td>70674.0</td>\n",
       "      <td>0.3583</td>\n",
       "      <td>0.0</td>\n",
       "    </tr>\n",
       "    <tr>\n",
       "      <th>167306</th>\n",
       "      <td>hempcoin</td>\n",
       "      <td>THC</td>\n",
       "      <td>HempCoin</td>\n",
       "      <td>2014-07-05</td>\n",
       "      <td>401</td>\n",
       "      <td>0.000409</td>\n",
       "      <td>0.000601</td>\n",
       "      <td>0.000308</td>\n",
       "      <td>0.000372</td>\n",
       "      <td>314.0</td>\n",
       "      <td>40962.0</td>\n",
       "      <td>0.2184</td>\n",
       "      <td>0.0</td>\n",
       "    </tr>\n",
       "    <tr>\n",
       "      <th>167307</th>\n",
       "      <td>hempcoin</td>\n",
       "      <td>THC</td>\n",
       "      <td>HempCoin</td>\n",
       "      <td>2014-07-06</td>\n",
       "      <td>401</td>\n",
       "      <td>0.000373</td>\n",
       "      <td>0.000942</td>\n",
       "      <td>0.000361</td>\n",
       "      <td>0.000388</td>\n",
       "      <td>194.0</td>\n",
       "      <td>37461.0</td>\n",
       "      <td>0.0465</td>\n",
       "      <td>0.0</td>\n",
       "    </tr>\n",
       "    <tr>\n",
       "      <th>167308</th>\n",
       "      <td>hempcoin</td>\n",
       "      <td>THC</td>\n",
       "      <td>HempCoin</td>\n",
       "      <td>2014-07-07</td>\n",
       "      <td>401</td>\n",
       "      <td>0.000388</td>\n",
       "      <td>0.000471</td>\n",
       "      <td>0.000352</td>\n",
       "      <td>0.000356</td>\n",
       "      <td>276.0</td>\n",
       "      <td>39246.0</td>\n",
       "      <td>0.0336</td>\n",
       "      <td>0.0</td>\n",
       "    </tr>\n",
       "  </tbody>\n",
       "</table>\n",
       "</div>"
      ],
      "text/plain": [
       "            slug symbol      name        date  ranknow      open      high  \\\n",
       "167299  hempcoin    THC  HempCoin  2014-06-28      401  0.000102  0.000108   \n",
       "167300  hempcoin    THC  HempCoin  2014-06-29      401  0.000030  0.000169   \n",
       "167301  hempcoin    THC  HempCoin  2014-06-30      401  0.000169  0.000299   \n",
       "167302  hempcoin    THC  HempCoin  2014-07-01      401  0.000256  0.000362   \n",
       "167303  hempcoin    THC  HempCoin  2014-07-02      401  0.000301  0.000326   \n",
       "167304  hempcoin    THC  HempCoin  2014-07-03      401  0.000325  0.001250   \n",
       "167305  hempcoin    THC  HempCoin  2014-07-04      401  0.000710  0.001064   \n",
       "167306  hempcoin    THC  HempCoin  2014-07-05      401  0.000409  0.000601   \n",
       "167307  hempcoin    THC  HempCoin  2014-07-06      401  0.000373  0.000942   \n",
       "167308  hempcoin    THC  HempCoin  2014-07-07      401  0.000388  0.000471   \n",
       "\n",
       "             low     close  volume   market  close_ratio  spread  \n",
       "167299  0.000030  0.000030    19.0   9857.0       0.0000     0.0  \n",
       "167300  0.000030  0.000169    23.0   2897.0       1.0000     0.0  \n",
       "167301  0.000102  0.000256   283.0  16501.0       0.7817     0.0  \n",
       "167302  0.000244  0.000301   400.0  25146.0       0.4831     0.0  \n",
       "167303  0.000169  0.000169   109.0  29754.0       0.0000     0.0  \n",
       "167304  0.000180  0.000709  1019.0  32256.0       0.4944     0.0  \n",
       "167305  0.000291  0.000568   830.0  70674.0       0.3583     0.0  \n",
       "167306  0.000308  0.000372   314.0  40962.0       0.2184     0.0  \n",
       "167307  0.000361  0.000388   194.0  37461.0       0.0465     0.0  \n",
       "167308  0.000352  0.000356   276.0  39246.0       0.0336     0.0  "
      ]
     },
     "execution_count": 11,
     "metadata": {},
     "output_type": "execute_result"
    },
    {
     "data": {
      "text/html": [
       "<div>\n",
       "<style scoped>\n",
       "    .dataframe tbody tr th:only-of-type {\n",
       "        vertical-align: middle;\n",
       "    }\n",
       "\n",
       "    .dataframe tbody tr th {\n",
       "        vertical-align: top;\n",
       "    }\n",
       "\n",
       "    .dataframe thead th {\n",
       "        text-align: right;\n",
       "    }\n",
       "</style>\n",
       "<table border=\"1\" class=\"dataframe\">\n",
       "  <thead>\n",
       "    <tr style=\"text-align: right;\">\n",
       "      <th></th>\n",
       "      <th>slug</th>\n",
       "      <th>symbol</th>\n",
       "      <th>name</th>\n",
       "      <th>date</th>\n",
       "      <th>ranknow</th>\n",
       "      <th>open</th>\n",
       "      <th>high</th>\n",
       "      <th>low</th>\n",
       "      <th>close</th>\n",
       "      <th>volume</th>\n",
       "      <th>market</th>\n",
       "      <th>close_ratio</th>\n",
       "      <th>spread</th>\n",
       "    </tr>\n",
       "  </thead>\n",
       "  <tbody>\n",
       "    <tr>\n",
       "      <th>622287</th>\n",
       "      <td>hempcoin-hmp</td>\n",
       "      <td>HMP</td>\n",
       "      <td>HempCoin</td>\n",
       "      <td>2016-02-16</td>\n",
       "      <td>1232</td>\n",
       "      <td>0.000012</td>\n",
       "      <td>0.000012</td>\n",
       "      <td>0.000012</td>\n",
       "      <td>0.000012</td>\n",
       "      <td>15.0</td>\n",
       "      <td>0.0</td>\n",
       "      <td>0.0000</td>\n",
       "      <td>0.0</td>\n",
       "    </tr>\n",
       "    <tr>\n",
       "      <th>622288</th>\n",
       "      <td>hempcoin-hmp</td>\n",
       "      <td>HMP</td>\n",
       "      <td>HempCoin</td>\n",
       "      <td>2016-02-17</td>\n",
       "      <td>1232</td>\n",
       "      <td>0.000012</td>\n",
       "      <td>0.000013</td>\n",
       "      <td>0.000008</td>\n",
       "      <td>0.000012</td>\n",
       "      <td>20.0</td>\n",
       "      <td>0.0</td>\n",
       "      <td>0.8000</td>\n",
       "      <td>0.0</td>\n",
       "    </tr>\n",
       "    <tr>\n",
       "      <th>622289</th>\n",
       "      <td>hempcoin-hmp</td>\n",
       "      <td>HMP</td>\n",
       "      <td>HempCoin</td>\n",
       "      <td>2016-02-18</td>\n",
       "      <td>1232</td>\n",
       "      <td>0.000012</td>\n",
       "      <td>0.000038</td>\n",
       "      <td>0.000012</td>\n",
       "      <td>0.000025</td>\n",
       "      <td>275.0</td>\n",
       "      <td>0.0</td>\n",
       "      <td>0.5000</td>\n",
       "      <td>0.0</td>\n",
       "    </tr>\n",
       "    <tr>\n",
       "      <th>622290</th>\n",
       "      <td>hempcoin-hmp</td>\n",
       "      <td>HMP</td>\n",
       "      <td>HempCoin</td>\n",
       "      <td>2016-02-19</td>\n",
       "      <td>1232</td>\n",
       "      <td>0.000025</td>\n",
       "      <td>0.000156</td>\n",
       "      <td>0.000025</td>\n",
       "      <td>0.000126</td>\n",
       "      <td>788.0</td>\n",
       "      <td>0.0</td>\n",
       "      <td>0.7710</td>\n",
       "      <td>0.0</td>\n",
       "    </tr>\n",
       "    <tr>\n",
       "      <th>622291</th>\n",
       "      <td>hempcoin-hmp</td>\n",
       "      <td>HMP</td>\n",
       "      <td>HempCoin</td>\n",
       "      <td>2016-02-20</td>\n",
       "      <td>1232</td>\n",
       "      <td>0.000126</td>\n",
       "      <td>0.000153</td>\n",
       "      <td>0.000046</td>\n",
       "      <td>0.000096</td>\n",
       "      <td>641.0</td>\n",
       "      <td>0.0</td>\n",
       "      <td>0.4673</td>\n",
       "      <td>0.0</td>\n",
       "    </tr>\n",
       "    <tr>\n",
       "      <th>622292</th>\n",
       "      <td>hempcoin-hmp</td>\n",
       "      <td>HMP</td>\n",
       "      <td>HempCoin</td>\n",
       "      <td>2016-02-21</td>\n",
       "      <td>1232</td>\n",
       "      <td>0.000096</td>\n",
       "      <td>0.000106</td>\n",
       "      <td>0.000066</td>\n",
       "      <td>0.000083</td>\n",
       "      <td>322.0</td>\n",
       "      <td>0.0</td>\n",
       "      <td>0.4250</td>\n",
       "      <td>0.0</td>\n",
       "    </tr>\n",
       "    <tr>\n",
       "      <th>622293</th>\n",
       "      <td>hempcoin-hmp</td>\n",
       "      <td>HMP</td>\n",
       "      <td>HempCoin</td>\n",
       "      <td>2016-02-22</td>\n",
       "      <td>1232</td>\n",
       "      <td>0.000083</td>\n",
       "      <td>0.000092</td>\n",
       "      <td>0.000018</td>\n",
       "      <td>0.000035</td>\n",
       "      <td>366.0</td>\n",
       "      <td>0.0</td>\n",
       "      <td>0.2297</td>\n",
       "      <td>0.0</td>\n",
       "    </tr>\n",
       "    <tr>\n",
       "      <th>622294</th>\n",
       "      <td>hempcoin-hmp</td>\n",
       "      <td>HMP</td>\n",
       "      <td>HempCoin</td>\n",
       "      <td>2016-02-23</td>\n",
       "      <td>1232</td>\n",
       "      <td>0.000035</td>\n",
       "      <td>0.000068</td>\n",
       "      <td>0.000021</td>\n",
       "      <td>0.000029</td>\n",
       "      <td>158.0</td>\n",
       "      <td>0.0</td>\n",
       "      <td>0.1702</td>\n",
       "      <td>0.0</td>\n",
       "    </tr>\n",
       "    <tr>\n",
       "      <th>622295</th>\n",
       "      <td>hempcoin-hmp</td>\n",
       "      <td>HMP</td>\n",
       "      <td>HempCoin</td>\n",
       "      <td>2016-02-24</td>\n",
       "      <td>1232</td>\n",
       "      <td>0.000029</td>\n",
       "      <td>0.000425</td>\n",
       "      <td>0.000029</td>\n",
       "      <td>0.000068</td>\n",
       "      <td>817.0</td>\n",
       "      <td>0.0</td>\n",
       "      <td>0.0985</td>\n",
       "      <td>0.0</td>\n",
       "    </tr>\n",
       "    <tr>\n",
       "      <th>622296</th>\n",
       "      <td>hempcoin-hmp</td>\n",
       "      <td>HMP</td>\n",
       "      <td>HempCoin</td>\n",
       "      <td>2016-02-25</td>\n",
       "      <td>1232</td>\n",
       "      <td>0.000064</td>\n",
       "      <td>0.000148</td>\n",
       "      <td>0.000046</td>\n",
       "      <td>0.000068</td>\n",
       "      <td>249.0</td>\n",
       "      <td>0.0</td>\n",
       "      <td>0.2157</td>\n",
       "      <td>0.0</td>\n",
       "    </tr>\n",
       "  </tbody>\n",
       "</table>\n",
       "</div>"
      ],
      "text/plain": [
       "                slug symbol      name        date  ranknow      open  \\\n",
       "622287  hempcoin-hmp    HMP  HempCoin  2016-02-16     1232  0.000012   \n",
       "622288  hempcoin-hmp    HMP  HempCoin  2016-02-17     1232  0.000012   \n",
       "622289  hempcoin-hmp    HMP  HempCoin  2016-02-18     1232  0.000012   \n",
       "622290  hempcoin-hmp    HMP  HempCoin  2016-02-19     1232  0.000025   \n",
       "622291  hempcoin-hmp    HMP  HempCoin  2016-02-20     1232  0.000126   \n",
       "622292  hempcoin-hmp    HMP  HempCoin  2016-02-21     1232  0.000096   \n",
       "622293  hempcoin-hmp    HMP  HempCoin  2016-02-22     1232  0.000083   \n",
       "622294  hempcoin-hmp    HMP  HempCoin  2016-02-23     1232  0.000035   \n",
       "622295  hempcoin-hmp    HMP  HempCoin  2016-02-24     1232  0.000029   \n",
       "622296  hempcoin-hmp    HMP  HempCoin  2016-02-25     1232  0.000064   \n",
       "\n",
       "            high       low     close  volume  market  close_ratio  spread  \n",
       "622287  0.000012  0.000012  0.000012    15.0     0.0       0.0000     0.0  \n",
       "622288  0.000013  0.000008  0.000012    20.0     0.0       0.8000     0.0  \n",
       "622289  0.000038  0.000012  0.000025   275.0     0.0       0.5000     0.0  \n",
       "622290  0.000156  0.000025  0.000126   788.0     0.0       0.7710     0.0  \n",
       "622291  0.000153  0.000046  0.000096   641.0     0.0       0.4673     0.0  \n",
       "622292  0.000106  0.000066  0.000083   322.0     0.0       0.4250     0.0  \n",
       "622293  0.000092  0.000018  0.000035   366.0     0.0       0.2297     0.0  \n",
       "622294  0.000068  0.000021  0.000029   158.0     0.0       0.1702     0.0  \n",
       "622295  0.000425  0.000029  0.000068   817.0     0.0       0.0985     0.0  \n",
       "622296  0.000148  0.000046  0.000068   249.0     0.0       0.2157     0.0  "
      ]
     },
     "execution_count": 11,
     "metadata": {},
     "output_type": "execute_result"
    }
   ],
   "source": [
    "origin[origin.slug=='hempcoin'].head(10)\n",
    "origin[origin.slug=='hempcoin-hmp'].head(10)"
   ]
  },
  {
   "cell_type": "code",
   "execution_count": 12,
   "metadata": {
    "scrolled": false
   },
   "outputs": [
    {
     "data": {
      "text/plain": [
       "array(['bitcoin', 'ethereum', 'ripple', ..., 'entcash', 'jingtum-tech',\n",
       "       'aston'], dtype=object)"
      ]
     },
     "execution_count": 12,
     "metadata": {},
     "output_type": "execute_result"
    }
   ],
   "source": [
    "origin.slug.unique()"
   ]
  },
  {
   "cell_type": "code",
   "execution_count": 13,
   "metadata": {
    "scrolled": true
   },
   "outputs": [
    {
     "data": {
      "text/plain": [
       "array(['Bitcoin', 'Ethereum', 'Ripple', ..., 'ENTCash', 'Jingtum Tech',\n",
       "       'Aston'], dtype=object)"
      ]
     },
     "execution_count": 13,
     "metadata": {},
     "output_type": "execute_result"
    }
   ],
   "source": [
    "origin.name.unique()"
   ]
  },
  {
   "cell_type": "code",
   "execution_count": 14,
   "metadata": {
    "scrolled": false
   },
   "outputs": [
    {
     "data": {
      "text/plain": [
       "litecoin       1866\n",
       "bitcoin        1866\n",
       "namecoin       1866\n",
       "peercoin       1865\n",
       "novacoin       1865\n",
       "feathercoin    1861\n",
       "terracoin      1851\n",
       "bitbar         1838\n",
       "worldcoin      1827\n",
       "digitalcoin    1823\n",
       "Name: slug, dtype: int64"
      ]
     },
     "execution_count": 14,
     "metadata": {},
     "output_type": "execute_result"
    }
   ],
   "source": [
    "origin.slug.value_counts().nlargest(10)"
   ]
  },
  {
   "cell_type": "code",
   "execution_count": 15,
   "metadata": {
    "scrolled": false
   },
   "outputs": [
    {
     "data": {
      "text/plain": [
       "NET    1955\n",
       "NMC    1866\n",
       "BTC    1866\n",
       "LTC    1866\n",
       "NVC    1865\n",
       "PPC    1865\n",
       "FTC    1861\n",
       "TRC    1851\n",
       "BTB    1838\n",
       "WDC    1827\n",
       "Name: symbol, dtype: int64"
      ]
     },
     "execution_count": 15,
     "metadata": {},
     "output_type": "execute_result"
    }
   ],
   "source": [
    "origin.symbol.value_counts().nlargest(10)"
   ]
  },
  {
   "cell_type": "code",
   "execution_count": 16,
   "metadata": {},
   "outputs": [
    {
     "data": {
      "text/plain": [
       "array(['nimiq', 'netcoin'], dtype=object)"
      ]
     },
     "execution_count": 16,
     "metadata": {},
     "output_type": "execute_result"
    }
   ],
   "source": [
    "origin[origin['symbol']=='NET']['slug'].unique()"
   ]
  },
  {
   "cell_type": "code",
   "execution_count": 17,
   "metadata": {},
   "outputs": [
    {
     "data": {
      "text/plain": [
       "array(['litecoin'], dtype=object)"
      ]
     },
     "execution_count": 17,
     "metadata": {},
     "output_type": "execute_result"
    }
   ],
   "source": [
    "origin[origin['symbol']=='LTC']['slug'].unique()"
   ]
  },
  {
   "cell_type": "markdown",
   "metadata": {},
   "source": [
    "-------"
   ]
  },
  {
   "cell_type": "code",
   "execution_count": 18,
   "metadata": {},
   "outputs": [],
   "source": [
    "origin['date'] = pd.to_datetime(origin['date'], format='%Y-%m-%d')"
   ]
  },
  {
   "cell_type": "code",
   "execution_count": 19,
   "metadata": {},
   "outputs": [
    {
     "data": {
      "text/plain": [
       "pandas._libs.tslib.Timestamp"
      ]
     },
     "execution_count": 19,
     "metadata": {},
     "output_type": "execute_result"
    }
   ],
   "source": [
    "type(origin['date'][0])"
   ]
  },
  {
   "cell_type": "code",
   "execution_count": 20,
   "metadata": {},
   "outputs": [],
   "source": [
    "#pd.value_counts(origin['slug']).plot.bar()"
   ]
  },
  {
   "cell_type": "code",
   "execution_count": 21,
   "metadata": {},
   "outputs": [
    {
     "data": {
      "text/plain": [
       "Index(['slug', 'symbol', 'name', 'date', 'ranknow', 'open', 'high', 'low',\n",
       "       'close', 'volume', 'market', 'close_ratio', 'spread'],\n",
       "      dtype='object')"
      ]
     },
     "execution_count": 21,
     "metadata": {},
     "output_type": "execute_result"
    }
   ],
   "source": [
    "origin.columns"
   ]
  },
  {
   "cell_type": "code",
   "execution_count": 22,
   "metadata": {},
   "outputs": [
    {
     "data": {
      "text/plain": [
       "Timestamp('2013-04-28 00:00:00')"
      ]
     },
     "execution_count": 22,
     "metadata": {},
     "output_type": "execute_result"
    },
    {
     "data": {
      "text/plain": [
       "Timestamp('2018-06-06 00:00:00')"
      ]
     },
     "execution_count": 22,
     "metadata": {},
     "output_type": "execute_result"
    }
   ],
   "source": [
    "min(origin['date'])\n",
    "max(origin['date'])"
   ]
  },
  {
   "cell_type": "markdown",
   "metadata": {},
   "source": [
    "--------"
   ]
  },
  {
   "cell_type": "code",
   "execution_count": 23,
   "metadata": {},
   "outputs": [
    {
     "data": {
      "text/plain": [
       "array([   1,    2,    3, ..., 1643, 1644, 1645])"
      ]
     },
     "execution_count": 23,
     "metadata": {},
     "output_type": "execute_result"
    }
   ],
   "source": [
    "origin.ranknow.unique()"
   ]
  },
  {
   "cell_type": "code",
   "execution_count": 24,
   "metadata": {
    "scrolled": true
   },
   "outputs": [
    {
     "data": {
      "text/plain": [
       "array([ 523, 1095])"
      ]
     },
     "execution_count": 24,
     "metadata": {},
     "output_type": "execute_result"
    }
   ],
   "source": [
    "origin.loc[origin['symbol']=='NET']['ranknow'].unique()"
   ]
  },
  {
   "cell_type": "code",
   "execution_count": 25,
   "metadata": {},
   "outputs": [
    {
     "data": {
      "text/plain": [
       "array(['Nimiq Exchange Token', 'NetCoin'], dtype=object)"
      ]
     },
     "execution_count": 25,
     "metadata": {},
     "output_type": "execute_result"
    }
   ],
   "source": [
    "origin.loc[origin['symbol']=='NET']['name'].unique()"
   ]
  },
  {
   "cell_type": "code",
   "execution_count": 26,
   "metadata": {},
   "outputs": [
    {
     "data": {
      "text/plain": [
       "1644"
      ]
     },
     "execution_count": 26,
     "metadata": {},
     "output_type": "execute_result"
    }
   ],
   "source": [
    "len(origin.groupby('ranknow')['name'].unique())"
   ]
  },
  {
   "cell_type": "code",
   "execution_count": 27,
   "metadata": {},
   "outputs": [
    {
     "data": {
      "text/plain": [
       "ranknow\n",
       "1          [bitcoin]\n",
       "2         [ethereum]\n",
       "3           [ripple]\n",
       "4     [bitcoin-cash]\n",
       "5              [eos]\n",
       "6         [litecoin]\n",
       "7          [stellar]\n",
       "8          [cardano]\n",
       "9             [iota]\n",
       "10            [tron]\n",
       "Name: slug, dtype: object"
      ]
     },
     "execution_count": 27,
     "metadata": {},
     "output_type": "execute_result"
    }
   ],
   "source": [
    "origin.groupby('ranknow')['slug'].unique().head(10)"
   ]
  },
  {
   "cell_type": "markdown",
   "metadata": {},
   "source": [
    "------"
   ]
  },
  {
   "cell_type": "code",
   "execution_count": 28,
   "metadata": {},
   "outputs": [
    {
     "name": "stdout",
     "output_type": "stream",
     "text": [
      "                 open      high       low     close    volume    market  \\\n",
      "open         1.000000  0.967526  0.971012  0.956207  0.010411  0.011398   \n",
      "high         0.967526  1.000000  0.947080  0.971402  0.008690  0.009458   \n",
      "low          0.971012  0.947080  1.000000  0.971565  0.012038  0.013291   \n",
      "close        0.956207  0.971402  0.971565  1.000000  0.010470  0.011448   \n",
      "volume       0.010411  0.008690  0.012038  0.010470  1.000000  0.896761   \n",
      "market       0.011398  0.009458  0.013291  0.011448  0.896761  1.000000   \n",
      "close_ratio -0.000680  0.000100  0.000750  0.003606  0.009434  0.008828   \n",
      "spread       0.750289  0.864099  0.656807  0.758528  0.001537  0.001378   \n",
      "\n",
      "             close_ratio    spread  \n",
      "open           -0.000680  0.750289  \n",
      "high            0.000100  0.864099  \n",
      "low             0.000750  0.656807  \n",
      "close           0.003606  0.758528  \n",
      "volume          0.009434  0.001537  \n",
      "market          0.008828  0.001378  \n",
      "close_ratio     1.000000 -0.000940  \n",
      "spread         -0.000940  1.000000  \n"
     ]
    }
   ],
   "source": [
    "corrMatt = origin[[\"open\", \"high\", \"low\", \"close\", \"volume\", \"market\", \"close_ratio\", \"spread\"]]\n",
    "corrMatt = corrMatt.corr()\n",
    "print(corrMatt)"
   ]
  },
  {
   "cell_type": "code",
   "execution_count": 29,
   "metadata": {},
   "outputs": [],
   "source": [
    "mask = np.array(corrMatt)\n",
    "mask[np.tril_indices_from(mask)] = False"
   ]
  },
  {
   "cell_type": "code",
   "execution_count": 30,
   "metadata": {},
   "outputs": [
    {
     "name": "stderr",
     "output_type": "stream",
     "text": [
      "/usr/local/lib/python3.5/dist-packages/pandas/core/computation/check.py:17: UserWarning: The installed version of numexpr 2.4.3 is not supported in pandas and will be not be used\n",
      "The minimum supported version is 2.4.6\n",
      "\n",
      "  ver=ver, min_ver=_MIN_NUMEXPR_VERSION), UserWarning)\n"
     ]
    },
    {
     "data": {
      "text/plain": [
       "<matplotlib.axes._subplots.AxesSubplot at 0x7fd9ac114fd0>"
      ]
     },
     "execution_count": 30,
     "metadata": {},
     "output_type": "execute_result"
    },
    {
     "data": {
      "image/png": "[encoded data removed]",
      "text/plain": [
       "<matplotlib.figure.Figure at 0x7fd9ac0edba8>"
      ]
     },
     "metadata": {},
     "output_type": "display_data"
    }
   ],
   "source": [
    "import matplotlib.pyplot as plt \n",
    "fig, ax = plt.subplots()\n",
    "fig.set_size_inches(20, 10)\n",
    "sns.heatmap(corrMatt, mask=mask, vmax=.8, square=True, annot=True)"
   ]
  },
  {
   "cell_type": "code",
   "execution_count": 31,
   "metadata": {},
   "outputs": [],
   "source": [
    "bitcoin = origin.loc[origin['slug']=='bitcoin', ['date', 'open', 'high', 'low', 'close']]"
   ]
  },
  {
   "cell_type": "code",
   "execution_count": 32,
   "metadata": {},
   "outputs": [
    {
     "data": {
      "text/plain": [
       "True"
      ]
     },
     "execution_count": 32,
     "metadata": {},
     "output_type": "execute_result"
    }
   ],
   "source": [
    "bitcoin.date.is_unique"
   ]
  },
  {
   "cell_type": "code",
   "execution_count": 33,
   "metadata": {
    "scrolled": true
   },
   "outputs": [
    {
     "data": {
      "text/plain": [
       "<matplotlib.axes._subplots.AxesSubplot at 0x7fd9a8a3a908>"
      ]
     },
     "execution_count": 33,
     "metadata": {},
     "output_type": "execute_result"
    },
    {
     "data": {
      "image/png": "[encoded data removed]",
      "text/plain": [
       "<matplotlib.figure.Figure at 0x7fd9a8a4ebe0>"
      ]
     },
     "metadata": {},
     "output_type": "display_data"
    }
   ],
   "source": [
    "bitcoin.set_index('date').plot()"
   ]
  },
  {
   "cell_type": "code",
   "execution_count": 34,
   "metadata": {},
   "outputs": [
    {
     "data": {
      "text/plain": [
       "<matplotlib.axes._subplots.AxesSubplot at 0x7fd9a8a44a20>"
      ]
     },
     "execution_count": 34,
     "metadata": {},
     "output_type": "execute_result"
    },
    {
     "data": {
      "image/png": "[encoded data removed]",
      "text/plain": [
       "<matplotlib.figure.Figure at 0x7fd9a8929e80>"
      ]
     },
     "metadata": {},
     "output_type": "display_data"
    }
   ],
   "source": [
    "ethereum = origin.loc[origin['slug']=='ethereum', ['date', 'open', 'high', 'low', 'close']]\n",
    "ethereum.set_index('date').plot()"
   ]
  },
  {
   "cell_type": "code",
   "execution_count": 35,
   "metadata": {},
   "outputs": [
    {
     "data": {
      "text/plain": [
       "<matplotlib.axes._subplots.AxesSubplot at 0x7fd9a882cb38>"
      ]
     },
     "execution_count": 35,
     "metadata": {},
     "output_type": "execute_result"
    },
    {
     "data": {
      "image/png": "[encoded data removed]",
      "text/plain": [
       "<matplotlib.figure.Figure at 0x7fd9a8834278>"
      ]
     },
     "metadata": {},
     "output_type": "display_data"
    }
   ],
   "source": [
    "ripple = origin.loc[origin['slug']=='ripple', ['date', 'open', 'high', 'low', 'close']]\n",
    "ripple.set_index('date').plot()"
   ]
  },
  {
   "cell_type": "code",
   "execution_count": 36,
   "metadata": {},
   "outputs": [],
   "source": [
    "import matplotlib.pyplot as plt"
   ]
  },
  {
   "cell_type": "code",
   "execution_count": 37,
   "metadata": {},
   "outputs": [
    {
     "data": {
      "text/plain": [
       "<matplotlib.figure.Figure at 0x7fd9a8834080>"
      ]
     },
     "execution_count": 37,
     "metadata": {},
     "output_type": "execute_result"
    },
    {
     "data": {
      "text/plain": [
       "[<matplotlib.lines.Line2D at 0x7fd9a867e358>]"
      ]
     },
     "execution_count": 37,
     "metadata": {},
     "output_type": "execute_result"
    },
    {
     "data": {
      "image/png": "[encoded data removed]",
      "text/plain": [
       "<matplotlib.figure.Figure at 0x7fd9a8834080>"
      ]
     },
     "metadata": {},
     "output_type": "display_data"
    }
   ],
   "source": [
    "plt.figure(figsize=(10,5))\n",
    "plt.plot(bitcoin['date'], bitcoin['open'])\n",
    "plt.show()"
   ]
  },
  {
   "cell_type": "code",
   "execution_count": 38,
   "metadata": {},
   "outputs": [
    {
     "data": {
      "text/plain": [
       "Index(['slug', 'symbol', 'name', 'date', 'ranknow', 'open', 'high', 'low',\n",
       "       'close', 'volume', 'market', 'close_ratio', 'spread'],\n",
       "      dtype='object')"
      ]
     },
     "execution_count": 38,
     "metadata": {},
     "output_type": "execute_result"
    }
   ],
   "source": [
    "origin.columns"
   ]
  },
  {
   "cell_type": "code",
   "execution_count": 39,
   "metadata": {
    "scrolled": true
   },
   "outputs": [],
   "source": [
    "# origin.groupby('date').mean().open"
   ]
  },
  {
   "cell_type": "code",
   "execution_count": 40,
   "metadata": {},
   "outputs": [],
   "source": [
    "unique_date = origin['date'].unique()\n",
    "all_mean = origin.groupby('date').mean()"
   ]
  },
  {
   "cell_type": "code",
   "execution_count": 41,
   "metadata": {
    "scrolled": false
   },
   "outputs": [
    {
     "data": {
      "text/plain": [
       "<matplotlib.figure.Figure at 0x7fd9a87b8ef0>"
      ]
     },
     "execution_count": 41,
     "metadata": {},
     "output_type": "execute_result"
    },
    {
     "data": {
      "text/plain": [
       "[<matplotlib.lines.Line2D at 0x7fd9a86654e0>]"
      ]
     },
     "execution_count": 41,
     "metadata": {},
     "output_type": "execute_result"
    },
    {
     "data": {
      "image/png": "[encoded data removed]",
      "text/plain": [
       "<matplotlib.figure.Figure at 0x7fd9a87b8ef0>"
      ]
     },
     "metadata": {},
     "output_type": "display_data"
    }
   ],
   "source": [
    "plt.figure(figsize=(10,5))\n",
    "plt.plot(unique_date, all_mean.high)\n",
    "plt.show()"
   ]
  },
  {
   "cell_type": "code",
   "execution_count": 42,
   "metadata": {},
   "outputs": [
    {
     "data": {
      "text/plain": [
       "<matplotlib.figure.Figure at 0x7fd9a86601d0>"
      ]
     },
     "execution_count": 42,
     "metadata": {},
     "output_type": "execute_result"
    },
    {
     "data": {
      "text/plain": [
       "[<matplotlib.lines.Line2D at 0x7fd9a8635e80>]"
      ]
     },
     "execution_count": 42,
     "metadata": {},
     "output_type": "execute_result"
    },
    {
     "data": {
      "image/png": "[encoded data removed]",
      "text/plain": [
       "<matplotlib.figure.Figure at 0x7fd9a86601d0>"
      ]
     },
     "metadata": {},
     "output_type": "display_data"
    }
   ],
   "source": [
    "plt.figure(figsize=(10,5))\n",
    "plt.plot(unique_date, all_mean.volume)\n",
    "plt.show()"
   ]
  },
  {
   "cell_type": "code",
   "execution_count": 43,
   "metadata": {},
   "outputs": [
    {
     "data": {
      "text/plain": [
       "<matplotlib.figure.Figure at 0x7fd9a8581240>"
      ]
     },
     "execution_count": 43,
     "metadata": {},
     "output_type": "execute_result"
    },
    {
     "data": {
      "text/plain": [
       "[<matplotlib.lines.Line2D at 0x7fd9a85a4438>]"
      ]
     },
     "execution_count": 43,
     "metadata": {},
     "output_type": "execute_result"
    },
    {
     "data": {
      "image/png": "[encoded data removed]",
      "text/plain": [
       "<matplotlib.figure.Figure at 0x7fd9a8581240>"
      ]
     },
     "metadata": {},
     "output_type": "display_data"
    }
   ],
   "source": [
    "plt.figure(figsize=(10,5))\n",
    "plt.plot(unique_date, all_mean.market)\n",
    "plt.show()"
   ]
  },
  {
   "cell_type": "code",
   "execution_count": 44,
   "metadata": {},
   "outputs": [
    {
     "data": {
      "text/plain": [
       "<matplotlib.figure.Figure at 0x7fd9a85668d0>"
      ]
     },
     "execution_count": 44,
     "metadata": {},
     "output_type": "execute_result"
    },
    {
     "data": {
      "text/plain": [
       "[<matplotlib.lines.Line2D at 0x7fd9a8500a58>]"
      ]
     },
     "execution_count": 44,
     "metadata": {},
     "output_type": "execute_result"
    },
    {
     "data": {
      "image/png": "[encoded data removed]",
      "text/plain": [
       "<matplotlib.figure.Figure at 0x7fd9a85668d0>"
      ]
     },
     "metadata": {},
     "output_type": "display_data"
    }
   ],
   "source": [
    "plt.figure(figsize=(10,5))\n",
    "plt.plot(unique_date, all_mean.close_ratio)\n",
    "plt.show()"
   ]
  },
  {
   "cell_type": "code",
   "execution_count": 45,
   "metadata": {},
   "outputs": [
    {
     "data": {
      "text/plain": [
       "<matplotlib.figure.Figure at 0x7fd9a84d05f8>"
      ]
     },
     "execution_count": 45,
     "metadata": {},
     "output_type": "execute_result"
    },
    {
     "data": {
      "text/plain": [
       "[<matplotlib.lines.Line2D at 0x7fd9a84e1208>]"
      ]
     },
     "execution_count": 45,
     "metadata": {},
     "output_type": "execute_result"
    },
    {
     "data": {
      "image/png": "[encoded data removed]",
      "text/plain": [
       "<matplotlib.figure.Figure at 0x7fd9a84d05f8>"
      ]
     },
     "metadata": {},
     "output_type": "display_data"
    }
   ],
   "source": [
    "plt.figure(figsize=(10,5))\n",
    "plt.plot(unique_date, all_mean.spread)\n",
    "plt.show()"
   ]
  },
  {
   "cell_type": "code",
   "execution_count": 46,
   "metadata": {
    "scrolled": false
   },
   "outputs": [],
   "source": [
    "# origin.groupby('date').mean().open.nlargest(100)"
   ]
  },
  {
   "cell_type": "code",
   "execution_count": 47,
   "metadata": {},
   "outputs": [],
   "source": [
    "# open100 = origin.groupby('date').mean().open.nlargest(100)\n",
    "# open100.head()"
   ]
  },
  {
   "cell_type": "code",
   "execution_count": 48,
   "metadata": {},
   "outputs": [],
   "source": [
    "# open100.plot()"
   ]
  },
  {
   "cell_type": "code",
   "execution_count": 49,
   "metadata": {},
   "outputs": [
    {
     "data": {
      "text/plain": [
       "Index(['slug', 'symbol', 'name', 'date', 'ranknow', 'open', 'high', 'low',\n",
       "       'close', 'volume', 'market', 'close_ratio', 'spread'],\n",
       "      dtype='object')"
      ]
     },
     "execution_count": 49,
     "metadata": {},
     "output_type": "execute_result"
    }
   ],
   "source": [
    "origin.columns"
   ]
  },
  {
   "cell_type": "code",
   "execution_count": 50,
   "metadata": {},
   "outputs": [
    {
     "data": {
      "text/html": [
       "<div>\n",
       "<style scoped>\n",
       "    .dataframe tbody tr th:only-of-type {\n",
       "        vertical-align: middle;\n",
       "    }\n",
       "\n",
       "    .dataframe tbody tr th {\n",
       "        vertical-align: top;\n",
       "    }\n",
       "\n",
       "    .dataframe thead th {\n",
       "        text-align: right;\n",
       "    }\n",
       "</style>\n",
       "<table border=\"1\" class=\"dataframe\">\n",
       "  <thead>\n",
       "    <tr style=\"text-align: right;\">\n",
       "      <th></th>\n",
       "      <th>slug</th>\n",
       "      <th>symbol</th>\n",
       "      <th>name</th>\n",
       "      <th>date</th>\n",
       "      <th>ranknow</th>\n",
       "      <th>open</th>\n",
       "      <th>high</th>\n",
       "      <th>low</th>\n",
       "      <th>close</th>\n",
       "      <th>volume</th>\n",
       "      <th>market</th>\n",
       "      <th>close_ratio</th>\n",
       "      <th>spread</th>\n",
       "    </tr>\n",
       "  </thead>\n",
       "  <tbody>\n",
       "    <tr>\n",
       "      <th>0</th>\n",
       "      <td>bitcoin</td>\n",
       "      <td>BTC</td>\n",
       "      <td>Bitcoin</td>\n",
       "      <td>2013-04-28</td>\n",
       "      <td>1</td>\n",
       "      <td>135.30</td>\n",
       "      <td>135.98</td>\n",
       "      <td>132.10</td>\n",
       "      <td>134.21</td>\n",
       "      <td>0.0</td>\n",
       "      <td>1.500520e+09</td>\n",
       "      <td>0.5438</td>\n",
       "      <td>3.88</td>\n",
       "    </tr>\n",
       "    <tr>\n",
       "      <th>1</th>\n",
       "      <td>bitcoin</td>\n",
       "      <td>BTC</td>\n",
       "      <td>Bitcoin</td>\n",
       "      <td>2013-04-29</td>\n",
       "      <td>1</td>\n",
       "      <td>134.44</td>\n",
       "      <td>147.49</td>\n",
       "      <td>134.00</td>\n",
       "      <td>144.54</td>\n",
       "      <td>0.0</td>\n",
       "      <td>1.491160e+09</td>\n",
       "      <td>0.7813</td>\n",
       "      <td>13.49</td>\n",
       "    </tr>\n",
       "    <tr>\n",
       "      <th>2</th>\n",
       "      <td>bitcoin</td>\n",
       "      <td>BTC</td>\n",
       "      <td>Bitcoin</td>\n",
       "      <td>2013-04-30</td>\n",
       "      <td>1</td>\n",
       "      <td>144.00</td>\n",
       "      <td>146.93</td>\n",
       "      <td>134.05</td>\n",
       "      <td>139.00</td>\n",
       "      <td>0.0</td>\n",
       "      <td>1.597780e+09</td>\n",
       "      <td>0.3843</td>\n",
       "      <td>12.88</td>\n",
       "    </tr>\n",
       "    <tr>\n",
       "      <th>3</th>\n",
       "      <td>bitcoin</td>\n",
       "      <td>BTC</td>\n",
       "      <td>Bitcoin</td>\n",
       "      <td>2013-05-01</td>\n",
       "      <td>1</td>\n",
       "      <td>139.00</td>\n",
       "      <td>139.89</td>\n",
       "      <td>107.72</td>\n",
       "      <td>116.99</td>\n",
       "      <td>0.0</td>\n",
       "      <td>1.542820e+09</td>\n",
       "      <td>0.2882</td>\n",
       "      <td>32.17</td>\n",
       "    </tr>\n",
       "    <tr>\n",
       "      <th>4</th>\n",
       "      <td>bitcoin</td>\n",
       "      <td>BTC</td>\n",
       "      <td>Bitcoin</td>\n",
       "      <td>2013-05-02</td>\n",
       "      <td>1</td>\n",
       "      <td>116.38</td>\n",
       "      <td>125.60</td>\n",
       "      <td>92.28</td>\n",
       "      <td>105.21</td>\n",
       "      <td>0.0</td>\n",
       "      <td>1.292190e+09</td>\n",
       "      <td>0.3881</td>\n",
       "      <td>33.32</td>\n",
       "    </tr>\n",
       "  </tbody>\n",
       "</table>\n",
       "</div>"
      ],
      "text/plain": [
       "      slug symbol     name       date  ranknow    open    high     low  \\\n",
       "0  bitcoin    BTC  Bitcoin 2013-04-28        1  135.30  135.98  132.10   \n",
       "1  bitcoin    BTC  Bitcoin 2013-04-29        1  134.44  147.49  134.00   \n",
       "2  bitcoin    BTC  Bitcoin 2013-04-30        1  144.00  146.93  134.05   \n",
       "3  bitcoin    BTC  Bitcoin 2013-05-01        1  139.00  139.89  107.72   \n",
       "4  bitcoin    BTC  Bitcoin 2013-05-02        1  116.38  125.60   92.28   \n",
       "\n",
       "    close  volume        market  close_ratio  spread  \n",
       "0  134.21     0.0  1.500520e+09       0.5438    3.88  \n",
       "1  144.54     0.0  1.491160e+09       0.7813   13.49  \n",
       "2  139.00     0.0  1.597780e+09       0.3843   12.88  \n",
       "3  116.99     0.0  1.542820e+09       0.2882   32.17  \n",
       "4  105.21     0.0  1.292190e+09       0.3881   33.32  "
      ]
     },
     "execution_count": 50,
     "metadata": {},
     "output_type": "execute_result"
    }
   ],
   "source": [
    "origin.head()"
   ]
  },
  {
   "cell_type": "code",
   "execution_count": 51,
   "metadata": {},
   "outputs": [
    {
     "data": {
      "text/plain": [
       "<matplotlib.axes._subplots.AxesSubplot at 0x7fd9a84ad240>"
      ]
     },
     "execution_count": 51,
     "metadata": {},
     "output_type": "execute_result"
    },
    {
     "data": {
      "image/png": "[encoded data removed]",
      "text/plain": [
       "<matplotlib.figure.Figure at 0x7fd9a855fa58>"
      ]
     },
     "metadata": {},
     "output_type": "display_data"
    }
   ],
   "source": [
    "origin['date'].value_counts().plot()"
   ]
  },
  {
   "cell_type": "markdown",
   "metadata": {},
   "source": [
    "----------"
   ]
  },
  {
   "cell_type": "code",
   "execution_count": 52,
   "metadata": {},
   "outputs": [
    {
     "data": {
      "text/html": [
       "<div>\n",
       "<style scoped>\n",
       "    .dataframe tbody tr th:only-of-type {\n",
       "        vertical-align: middle;\n",
       "    }\n",
       "\n",
       "    .dataframe tbody tr th {\n",
       "        vertical-align: top;\n",
       "    }\n",
       "\n",
       "    .dataframe thead th {\n",
       "        text-align: right;\n",
       "    }\n",
       "</style>\n",
       "<table border=\"1\" class=\"dataframe\">\n",
       "  <thead>\n",
       "    <tr style=\"text-align: right;\">\n",
       "      <th></th>\n",
       "      <th>slug</th>\n",
       "      <th>symbol</th>\n",
       "      <th>name</th>\n",
       "      <th>date</th>\n",
       "      <th>ranknow</th>\n",
       "      <th>open</th>\n",
       "      <th>high</th>\n",
       "      <th>low</th>\n",
       "      <th>close</th>\n",
       "      <th>volume</th>\n",
       "      <th>market</th>\n",
       "      <th>close_ratio</th>\n",
       "      <th>spread</th>\n",
       "    </tr>\n",
       "  </thead>\n",
       "  <tbody>\n",
       "    <tr>\n",
       "      <th>5725</th>\n",
       "      <td>litecoin</td>\n",
       "      <td>LTC</td>\n",
       "      <td>Litecoin</td>\n",
       "      <td>2014-05-29</td>\n",
       "      <td>6</td>\n",
       "      <td>11.010000</td>\n",
       "      <td>11.050000</td>\n",
       "      <td>10.780000</td>\n",
       "      <td>10.780000</td>\n",
       "      <td>2.006930e+06</td>\n",
       "      <td>3.169040e+08</td>\n",
       "      <td>0.0000</td>\n",
       "      <td>0.27</td>\n",
       "    </tr>\n",
       "    <tr>\n",
       "      <th>7117</th>\n",
       "      <td>litecoin</td>\n",
       "      <td>LTC</td>\n",
       "      <td>Litecoin</td>\n",
       "      <td>2018-03-21</td>\n",
       "      <td>6</td>\n",
       "      <td>169.560000</td>\n",
       "      <td>175.260000</td>\n",
       "      <td>166.620000</td>\n",
       "      <td>169.050000</td>\n",
       "      <td>4.625360e+08</td>\n",
       "      <td>9.447220e+09</td>\n",
       "      <td>0.2813</td>\n",
       "      <td>8.64</td>\n",
       "    </tr>\n",
       "    <tr>\n",
       "      <th>6228</th>\n",
       "      <td>litecoin</td>\n",
       "      <td>LTC</td>\n",
       "      <td>Litecoin</td>\n",
       "      <td>2015-10-14</td>\n",
       "      <td>6</td>\n",
       "      <td>3.180000</td>\n",
       "      <td>3.200000</td>\n",
       "      <td>3.100000</td>\n",
       "      <td>3.140000</td>\n",
       "      <td>1.781770e+06</td>\n",
       "      <td>1.358800e+08</td>\n",
       "      <td>0.4000</td>\n",
       "      <td>0.10</td>\n",
       "    </tr>\n",
       "    <tr>\n",
       "      <th>1669</th>\n",
       "      <td>bitcoin</td>\n",
       "      <td>BTC</td>\n",
       "      <td>Bitcoin</td>\n",
       "      <td>2017-11-22</td>\n",
       "      <td>1</td>\n",
       "      <td>8077.950000</td>\n",
       "      <td>8302.260000</td>\n",
       "      <td>8075.470000</td>\n",
       "      <td>8253.550000</td>\n",
       "      <td>3.633530e+09</td>\n",
       "      <td>1.348510e+11</td>\n",
       "      <td>0.7852</td>\n",
       "      <td>226.79</td>\n",
       "    </tr>\n",
       "    <tr>\n",
       "      <th>3760</th>\n",
       "      <td>ripple</td>\n",
       "      <td>XRP</td>\n",
       "      <td>Ripple</td>\n",
       "      <td>2015-12-11</td>\n",
       "      <td>3</td>\n",
       "      <td>0.008445</td>\n",
       "      <td>0.008453</td>\n",
       "      <td>0.007793</td>\n",
       "      <td>0.008441</td>\n",
       "      <td>3.465490e+06</td>\n",
       "      <td>2.832390e+08</td>\n",
       "      <td>0.9818</td>\n",
       "      <td>0.00</td>\n",
       "    </tr>\n",
       "    <tr>\n",
       "      <th>4789</th>\n",
       "      <td>bitcoin-cash</td>\n",
       "      <td>BCH</td>\n",
       "      <td>Bitcoin Cash</td>\n",
       "      <td>2017-11-20</td>\n",
       "      <td>4</td>\n",
       "      <td>1172.430000</td>\n",
       "      <td>1236.010000</td>\n",
       "      <td>1167.280000</td>\n",
       "      <td>1236.010000</td>\n",
       "      <td>8.000530e+08</td>\n",
       "      <td>1.971020e+10</td>\n",
       "      <td>1.0000</td>\n",
       "      <td>68.73</td>\n",
       "    </tr>\n",
       "    <tr>\n",
       "      <th>4978</th>\n",
       "      <td>bitcoin-cash</td>\n",
       "      <td>BCH</td>\n",
       "      <td>Bitcoin Cash</td>\n",
       "      <td>2018-05-28</td>\n",
       "      <td>4</td>\n",
       "      <td>996.650000</td>\n",
       "      <td>1005.650000</td>\n",
       "      <td>884.050000</td>\n",
       "      <td>892.120000</td>\n",
       "      <td>5.661680e+08</td>\n",
       "      <td>1.709380e+10</td>\n",
       "      <td>0.0664</td>\n",
       "      <td>121.60</td>\n",
       "    </tr>\n",
       "    <tr>\n",
       "      <th>1414</th>\n",
       "      <td>bitcoin</td>\n",
       "      <td>BTC</td>\n",
       "      <td>Bitcoin</td>\n",
       "      <td>2017-03-12</td>\n",
       "      <td>1</td>\n",
       "      <td>1176.620000</td>\n",
       "      <td>1226.980000</td>\n",
       "      <td>1175.360000</td>\n",
       "      <td>1221.380000</td>\n",
       "      <td>2.271760e+08</td>\n",
       "      <td>1.907330e+10</td>\n",
       "      <td>0.8915</td>\n",
       "      <td>51.62</td>\n",
       "    </tr>\n",
       "    <tr>\n",
       "      <th>4268</th>\n",
       "      <td>ripple</td>\n",
       "      <td>XRP</td>\n",
       "      <td>Ripple</td>\n",
       "      <td>2017-05-02</td>\n",
       "      <td>3</td>\n",
       "      <td>0.054646</td>\n",
       "      <td>0.055639</td>\n",
       "      <td>0.050710</td>\n",
       "      <td>0.053908</td>\n",
       "      <td>3.381470e+07</td>\n",
       "      <td>2.070240e+09</td>\n",
       "      <td>0.6488</td>\n",
       "      <td>0.00</td>\n",
       "    </tr>\n",
       "    <tr>\n",
       "      <th>3221</th>\n",
       "      <td>ripple</td>\n",
       "      <td>XRP</td>\n",
       "      <td>Ripple</td>\n",
       "      <td>2014-06-20</td>\n",
       "      <td>3</td>\n",
       "      <td>0.004230</td>\n",
       "      <td>0.004309</td>\n",
       "      <td>0.004167</td>\n",
       "      <td>0.004188</td>\n",
       "      <td>1.576770e+05</td>\n",
       "      <td>3.307320e+07</td>\n",
       "      <td>0.1479</td>\n",
       "      <td>0.00</td>\n",
       "    </tr>\n",
       "  </tbody>\n",
       "</table>\n",
       "</div>"
      ],
      "text/plain": [
       "              slug symbol          name       date  ranknow         open  \\\n",
       "5725      litecoin    LTC      Litecoin 2014-05-29        6    11.010000   \n",
       "7117      litecoin    LTC      Litecoin 2018-03-21        6   169.560000   \n",
       "6228      litecoin    LTC      Litecoin 2015-10-14        6     3.180000   \n",
       "1669       bitcoin    BTC       Bitcoin 2017-11-22        1  8077.950000   \n",
       "3760        ripple    XRP        Ripple 2015-12-11        3     0.008445   \n",
       "4789  bitcoin-cash    BCH  Bitcoin Cash 2017-11-20        4  1172.430000   \n",
       "4978  bitcoin-cash    BCH  Bitcoin Cash 2018-05-28        4   996.650000   \n",
       "1414       bitcoin    BTC       Bitcoin 2017-03-12        1  1176.620000   \n",
       "4268        ripple    XRP        Ripple 2017-05-02        3     0.054646   \n",
       "3221        ripple    XRP        Ripple 2014-06-20        3     0.004230   \n",
       "\n",
       "             high          low        close        volume        market  \\\n",
       "5725    11.050000    10.780000    10.780000  2.006930e+06  3.169040e+08   \n",
       "7117   175.260000   166.620000   169.050000  4.625360e+08  9.447220e+09   \n",
       "6228     3.200000     3.100000     3.140000  1.781770e+06  1.358800e+08   \n",
       "1669  8302.260000  8075.470000  8253.550000  3.633530e+09  1.348510e+11   \n",
       "3760     0.008453     0.007793     0.008441  3.465490e+06  2.832390e+08   \n",
       "4789  1236.010000  1167.280000  1236.010000  8.000530e+08  1.971020e+10   \n",
       "4978  1005.650000   884.050000   892.120000  5.661680e+08  1.709380e+10   \n",
       "1414  1226.980000  1175.360000  1221.380000  2.271760e+08  1.907330e+10   \n",
       "4268     0.055639     0.050710     0.053908  3.381470e+07  2.070240e+09   \n",
       "3221     0.004309     0.004167     0.004188  1.576770e+05  3.307320e+07   \n",
       "\n",
       "      close_ratio  spread  \n",
       "5725       0.0000    0.27  \n",
       "7117       0.2813    8.64  \n",
       "6228       0.4000    0.10  \n",
       "1669       0.7852  226.79  \n",
       "3760       0.9818    0.00  \n",
       "4789       1.0000   68.73  \n",
       "4978       0.0664  121.60  \n",
       "1414       0.8915   51.62  \n",
       "4268       0.6488    0.00  \n",
       "3221       0.1479    0.00  "
      ]
     },
     "execution_count": 52,
     "metadata": {},
     "output_type": "execute_result"
    }
   ],
   "source": [
    "top10 = origin.loc[origin['ranknow']<11]\n",
    "top10.sample(10)"
   ]
  },
  {
   "cell_type": "code",
   "execution_count": 53,
   "metadata": {},
   "outputs": [
    {
     "data": {
      "text/html": [
       "<div>\n",
       "<style scoped>\n",
       "    .dataframe tbody tr th:only-of-type {\n",
       "        vertical-align: middle;\n",
       "    }\n",
       "\n",
       "    .dataframe tbody tr th {\n",
       "        vertical-align: top;\n",
       "    }\n",
       "\n",
       "    .dataframe thead th {\n",
       "        text-align: right;\n",
       "    }\n",
       "</style>\n",
       "<table border=\"1\" class=\"dataframe\">\n",
       "  <thead>\n",
       "    <tr style=\"text-align: right;\">\n",
       "      <th></th>\n",
       "      <th>ranknow</th>\n",
       "      <th>open</th>\n",
       "      <th>high</th>\n",
       "      <th>low</th>\n",
       "      <th>close</th>\n",
       "      <th>volume</th>\n",
       "      <th>market</th>\n",
       "      <th>close_ratio</th>\n",
       "      <th>spread</th>\n",
       "    </tr>\n",
       "  </thead>\n",
       "  <tbody>\n",
       "    <tr>\n",
       "      <th>count</th>\n",
       "      <td>9472.000000</td>\n",
       "      <td>9472.000000</td>\n",
       "      <td>9472.000000</td>\n",
       "      <td>9472.000000</td>\n",
       "      <td>9472.000000</td>\n",
       "      <td>9.472000e+03</td>\n",
       "      <td>9.472000e+03</td>\n",
       "      <td>9472.000000</td>\n",
       "      <td>9472.000000</td>\n",
       "    </tr>\n",
       "    <tr>\n",
       "      <th>mean</th>\n",
       "      <td>4.341639</td>\n",
       "      <td>435.928480</td>\n",
       "      <td>452.821173</td>\n",
       "      <td>417.484706</td>\n",
       "      <td>436.775952</td>\n",
       "      <td>4.372071e+08</td>\n",
       "      <td>1.069706e+10</td>\n",
       "      <td>0.503998</td>\n",
       "      <td>35.336332</td>\n",
       "    </tr>\n",
       "    <tr>\n",
       "      <th>std</th>\n",
       "      <td>2.611477</td>\n",
       "      <td>1659.561519</td>\n",
       "      <td>1727.070027</td>\n",
       "      <td>1578.752101</td>\n",
       "      <td>1661.008609</td>\n",
       "      <td>1.536861e+09</td>\n",
       "      <td>2.976947e+10</td>\n",
       "      <td>0.307360</td>\n",
       "      <td>177.291657</td>\n",
       "    </tr>\n",
       "    <tr>\n",
       "      <th>min</th>\n",
       "      <td>1.000000</td>\n",
       "      <td>0.001352</td>\n",
       "      <td>0.001509</td>\n",
       "      <td>0.001091</td>\n",
       "      <td>0.001357</td>\n",
       "      <td>0.000000e+00</td>\n",
       "      <td>0.000000e+00</td>\n",
       "      <td>0.000000</td>\n",
       "      <td>0.000000</td>\n",
       "    </tr>\n",
       "    <tr>\n",
       "      <th>25%</th>\n",
       "      <td>2.000000</td>\n",
       "      <td>0.017370</td>\n",
       "      <td>0.018569</td>\n",
       "      <td>0.016282</td>\n",
       "      <td>0.017447</td>\n",
       "      <td>5.827235e+05</td>\n",
       "      <td>1.518838e+08</td>\n",
       "      <td>0.236250</td>\n",
       "      <td>0.000000</td>\n",
       "    </tr>\n",
       "    <tr>\n",
       "      <th>50%</th>\n",
       "      <td>4.000000</td>\n",
       "      <td>3.050000</td>\n",
       "      <td>3.130000</td>\n",
       "      <td>2.965000</td>\n",
       "      <td>3.050000</td>\n",
       "      <td>1.177615e+07</td>\n",
       "      <td>9.300935e+08</td>\n",
       "      <td>0.500000</td>\n",
       "      <td>0.140000</td>\n",
       "    </tr>\n",
       "    <tr>\n",
       "      <th>75%</th>\n",
       "      <td>6.000000</td>\n",
       "      <td>222.370000</td>\n",
       "      <td>228.310000</td>\n",
       "      <td>213.835000</td>\n",
       "      <td>222.247500</td>\n",
       "      <td>1.660862e+08</td>\n",
       "      <td>7.234430e+09</td>\n",
       "      <td>0.778350</td>\n",
       "      <td>6.280000</td>\n",
       "    </tr>\n",
       "    <tr>\n",
       "      <th>max</th>\n",
       "      <td>10.000000</td>\n",
       "      <td>19475.800000</td>\n",
       "      <td>20089.000000</td>\n",
       "      <td>18974.100000</td>\n",
       "      <td>19497.400000</td>\n",
       "      <td>2.384090e+10</td>\n",
       "      <td>3.261410e+11</td>\n",
       "      <td>1.000000</td>\n",
       "      <td>4110.400000</td>\n",
       "    </tr>\n",
       "  </tbody>\n",
       "</table>\n",
       "</div>"
      ],
      "text/plain": [
       "           ranknow          open          high           low         close  \\\n",
       "count  9472.000000   9472.000000   9472.000000   9472.000000   9472.000000   \n",
       "mean      4.341639    435.928480    452.821173    417.484706    436.775952   \n",
       "std       2.611477   1659.561519   1727.070027   1578.752101   1661.008609   \n",
       "min       1.000000      0.001352      0.001509      0.001091      0.001357   \n",
       "25%       2.000000      0.017370      0.018569      0.016282      0.017447   \n",
       "50%       4.000000      3.050000      3.130000      2.965000      3.050000   \n",
       "75%       6.000000    222.370000    228.310000    213.835000    222.247500   \n",
       "max      10.000000  19475.800000  20089.000000  18974.100000  19497.400000   \n",
       "\n",
       "             volume        market  close_ratio       spread  \n",
       "count  9.472000e+03  9.472000e+03  9472.000000  9472.000000  \n",
       "mean   4.372071e+08  1.069706e+10     0.503998    35.336332  \n",
       "std    1.536861e+09  2.976947e+10     0.307360   177.291657  \n",
       "min    0.000000e+00  0.000000e+00     0.000000     0.000000  \n",
       "25%    5.827235e+05  1.518838e+08     0.236250     0.000000  \n",
       "50%    1.177615e+07  9.300935e+08     0.500000     0.140000  \n",
       "75%    1.660862e+08  7.234430e+09     0.778350     6.280000  \n",
       "max    2.384090e+10  3.261410e+11     1.000000  4110.400000  "
      ]
     },
     "execution_count": 53,
     "metadata": {},
     "output_type": "execute_result"
    }
   ],
   "source": [
    "top10.describe()"
   ]
  },
  {
   "cell_type": "code",
   "execution_count": 54,
   "metadata": {},
   "outputs": [
    {
     "data": {
      "text/html": [
       "<div>\n",
       "<style scoped>\n",
       "    .dataframe tbody tr th:only-of-type {\n",
       "        vertical-align: middle;\n",
       "    }\n",
       "\n",
       "    .dataframe tbody tr th {\n",
       "        vertical-align: top;\n",
       "    }\n",
       "\n",
       "    .dataframe thead th {\n",
       "        text-align: right;\n",
       "    }\n",
       "</style>\n",
       "<table border=\"1\" class=\"dataframe\">\n",
       "  <thead>\n",
       "    <tr style=\"text-align: right;\">\n",
       "      <th></th>\n",
       "      <th>ranknow</th>\n",
       "      <th>open</th>\n",
       "      <th>high</th>\n",
       "      <th>low</th>\n",
       "      <th>close</th>\n",
       "      <th>volume</th>\n",
       "      <th>market</th>\n",
       "      <th>close_ratio</th>\n",
       "      <th>spread</th>\n",
       "    </tr>\n",
       "  </thead>\n",
       "  <tbody>\n",
       "    <tr>\n",
       "      <th>count</th>\n",
       "      <td>785024.000000</td>\n",
       "      <td>7.850240e+05</td>\n",
       "      <td>7.850240e+05</td>\n",
       "      <td>7.850240e+05</td>\n",
       "      <td>7.850240e+05</td>\n",
       "      <td>7.850240e+05</td>\n",
       "      <td>7.850240e+05</td>\n",
       "      <td>7.850240e+05</td>\n",
       "      <td>7.850240e+05</td>\n",
       "    </tr>\n",
       "    <tr>\n",
       "      <th>mean</th>\n",
       "      <td>842.650876</td>\n",
       "      <td>3.550859e+02</td>\n",
       "      <td>4.233219e+02</td>\n",
       "      <td>2.980848e+02</td>\n",
       "      <td>3.536499e+02</td>\n",
       "      <td>7.459260e+06</td>\n",
       "      <td>1.563100e+08</td>\n",
       "      <td>-inf</td>\n",
       "      <td>1.252368e+02</td>\n",
       "    </tr>\n",
       "    <tr>\n",
       "      <th>std</th>\n",
       "      <td>452.624872</td>\n",
       "      <td>1.403939e+04</td>\n",
       "      <td>1.733459e+04</td>\n",
       "      <td>1.157055e+04</td>\n",
       "      <td>1.396510e+04</td>\n",
       "      <td>1.817992e+08</td>\n",
       "      <td>3.478147e+09</td>\n",
       "      <td>NaN</td>\n",
       "      <td>7.379191e+03</td>\n",
       "    </tr>\n",
       "    <tr>\n",
       "      <th>min</th>\n",
       "      <td>1.000000</td>\n",
       "      <td>2.500000e-09</td>\n",
       "      <td>3.200000e-09</td>\n",
       "      <td>9.200000e-14</td>\n",
       "      <td>0.000000e+00</td>\n",
       "      <td>0.000000e+00</td>\n",
       "      <td>0.000000e+00</td>\n",
       "      <td>-inf</td>\n",
       "      <td>0.000000e+00</td>\n",
       "    </tr>\n",
       "    <tr>\n",
       "      <th>25%</th>\n",
       "      <td>472.000000</td>\n",
       "      <td>1.117000e-03</td>\n",
       "      <td>1.305000e-03</td>\n",
       "      <td>9.630000e-04</td>\n",
       "      <td>1.119000e-03</td>\n",
       "      <td>6.400000e+01</td>\n",
       "      <td>1.294600e+04</td>\n",
       "      <td>1.552000e-01</td>\n",
       "      <td>0.000000e+00</td>\n",
       "    </tr>\n",
       "    <tr>\n",
       "      <th>50%</th>\n",
       "      <td>910.000000</td>\n",
       "      <td>1.723150e-02</td>\n",
       "      <td>1.980350e-02</td>\n",
       "      <td>1.511100e-02</td>\n",
       "      <td>1.723000e-02</td>\n",
       "      <td>1.201000e+03</td>\n",
       "      <td>1.932045e+05</td>\n",
       "      <td>4.342000e-01</td>\n",
       "      <td>0.000000e+00</td>\n",
       "    </tr>\n",
       "    <tr>\n",
       "      <th>75%</th>\n",
       "      <td>1185.000000</td>\n",
       "      <td>2.159187e-01</td>\n",
       "      <td>2.424478e-01</td>\n",
       "      <td>1.915900e-01</td>\n",
       "      <td>2.156592e-01</td>\n",
       "      <td>3.963225e+04</td>\n",
       "      <td>3.635550e+06</td>\n",
       "      <td>7.586000e-01</td>\n",
       "      <td>4.000000e-02</td>\n",
       "    </tr>\n",
       "    <tr>\n",
       "      <th>max</th>\n",
       "      <td>1645.000000</td>\n",
       "      <td>2.298390e+06</td>\n",
       "      <td>2.926100e+06</td>\n",
       "      <td>2.030590e+06</td>\n",
       "      <td>2.300740e+06</td>\n",
       "      <td>2.384090e+10</td>\n",
       "      <td>3.261410e+11</td>\n",
       "      <td>1.000000e+00</td>\n",
       "      <td>1.770563e+06</td>\n",
       "    </tr>\n",
       "  </tbody>\n",
       "</table>\n",
       "</div>"
      ],
      "text/plain": [
       "             ranknow          open          high           low         close  \\\n",
       "count  785024.000000  7.850240e+05  7.850240e+05  7.850240e+05  7.850240e+05   \n",
       "mean      842.650876  3.550859e+02  4.233219e+02  2.980848e+02  3.536499e+02   \n",
       "std       452.624872  1.403939e+04  1.733459e+04  1.157055e+04  1.396510e+04   \n",
       "min         1.000000  2.500000e-09  3.200000e-09  9.200000e-14  0.000000e+00   \n",
       "25%       472.000000  1.117000e-03  1.305000e-03  9.630000e-04  1.119000e-03   \n",
       "50%       910.000000  1.723150e-02  1.980350e-02  1.511100e-02  1.723000e-02   \n",
       "75%      1185.000000  2.159187e-01  2.424478e-01  1.915900e-01  2.156592e-01   \n",
       "max      1645.000000  2.298390e+06  2.926100e+06  2.030590e+06  2.300740e+06   \n",
       "\n",
       "             volume        market   close_ratio        spread  \n",
       "count  7.850240e+05  7.850240e+05  7.850240e+05  7.850240e+05  \n",
       "mean   7.459260e+06  1.563100e+08          -inf  1.252368e+02  \n",
       "std    1.817992e+08  3.478147e+09           NaN  7.379191e+03  \n",
       "min    0.000000e+00  0.000000e+00          -inf  0.000000e+00  \n",
       "25%    6.400000e+01  1.294600e+04  1.552000e-01  0.000000e+00  \n",
       "50%    1.201000e+03  1.932045e+05  4.342000e-01  0.000000e+00  \n",
       "75%    3.963225e+04  3.635550e+06  7.586000e-01  4.000000e-02  \n",
       "max    2.384090e+10  3.261410e+11  1.000000e+00  1.770563e+06  "
      ]
     },
     "execution_count": 54,
     "metadata": {},
     "output_type": "execute_result"
    }
   ],
   "source": [
    "origin.describe()"
   ]
  },
  {
   "cell_type": "code",
   "execution_count": 55,
   "metadata": {},
   "outputs": [
    {
     "data": {
      "text/html": [
       "<div>\n",
       "<style scoped>\n",
       "    .dataframe tbody tr th:only-of-type {\n",
       "        vertical-align: middle;\n",
       "    }\n",
       "\n",
       "    .dataframe tbody tr th {\n",
       "        vertical-align: top;\n",
       "    }\n",
       "\n",
       "    .dataframe thead th {\n",
       "        text-align: right;\n",
       "    }\n",
       "</style>\n",
       "<table border=\"1\" class=\"dataframe\">\n",
       "  <thead>\n",
       "    <tr style=\"text-align: right;\">\n",
       "      <th></th>\n",
       "      <th>slug</th>\n",
       "      <th>symbol</th>\n",
       "      <th>name</th>\n",
       "      <th>date</th>\n",
       "      <th>ranknow</th>\n",
       "      <th>open</th>\n",
       "      <th>high</th>\n",
       "      <th>low</th>\n",
       "      <th>close</th>\n",
       "      <th>volume</th>\n",
       "      <th>market</th>\n",
       "      <th>close_ratio</th>\n",
       "      <th>spread</th>\n",
       "    </tr>\n",
       "  </thead>\n",
       "  <tbody>\n",
       "    <tr>\n",
       "      <th>479279</th>\n",
       "      <td>ethereum-movie-venture</td>\n",
       "      <td>EMV</td>\n",
       "      <td>Ethereum Movie Venture</td>\n",
       "      <td>2017-05-28</td>\n",
       "      <td>1064</td>\n",
       "      <td>0.54856</td>\n",
       "      <td>0.622543</td>\n",
       "      <td>9.200000e-14</td>\n",
       "      <td>0.0</td>\n",
       "      <td>3271.0</td>\n",
       "      <td>3602210.0</td>\n",
       "      <td>0.0</td>\n",
       "      <td>0.62</td>\n",
       "    </tr>\n",
       "  </tbody>\n",
       "</table>\n",
       "</div>"
      ],
      "text/plain": [
       "                          slug symbol                    name       date  \\\n",
       "479279  ethereum-movie-venture    EMV  Ethereum Movie Venture 2017-05-28   \n",
       "\n",
       "        ranknow     open      high           low  close  volume     market  \\\n",
       "479279     1064  0.54856  0.622543  9.200000e-14    0.0  3271.0  3602210.0   \n",
       "\n",
       "        close_ratio  spread  \n",
       "479279          0.0    0.62  "
      ]
     },
     "execution_count": 55,
     "metadata": {},
     "output_type": "execute_result"
    }
   ],
   "source": [
    "origin[origin['close']==0].head()"
   ]
  },
  {
   "cell_type": "code",
   "execution_count": 56,
   "metadata": {},
   "outputs": [
    {
     "data": {
      "text/html": [
       "<div>\n",
       "<style scoped>\n",
       "    .dataframe tbody tr th:only-of-type {\n",
       "        vertical-align: middle;\n",
       "    }\n",
       "\n",
       "    .dataframe tbody tr th {\n",
       "        vertical-align: top;\n",
       "    }\n",
       "\n",
       "    .dataframe thead th {\n",
       "        text-align: right;\n",
       "    }\n",
       "</style>\n",
       "<table border=\"1\" class=\"dataframe\">\n",
       "  <thead>\n",
       "    <tr style=\"text-align: right;\">\n",
       "      <th></th>\n",
       "      <th>slug</th>\n",
       "      <th>symbol</th>\n",
       "      <th>name</th>\n",
       "      <th>date</th>\n",
       "      <th>ranknow</th>\n",
       "      <th>open</th>\n",
       "      <th>high</th>\n",
       "      <th>low</th>\n",
       "      <th>close</th>\n",
       "      <th>volume</th>\n",
       "      <th>market</th>\n",
       "      <th>close_ratio</th>\n",
       "      <th>spread</th>\n",
       "    </tr>\n",
       "  </thead>\n",
       "  <tbody>\n",
       "    <tr>\n",
       "      <th>0</th>\n",
       "      <td>bitcoin</td>\n",
       "      <td>BTC</td>\n",
       "      <td>Bitcoin</td>\n",
       "      <td>2013-04-28</td>\n",
       "      <td>1</td>\n",
       "      <td>135.30</td>\n",
       "      <td>135.98</td>\n",
       "      <td>132.10</td>\n",
       "      <td>134.21</td>\n",
       "      <td>0.0</td>\n",
       "      <td>1.500520e+09</td>\n",
       "      <td>0.5438</td>\n",
       "      <td>3.88</td>\n",
       "    </tr>\n",
       "    <tr>\n",
       "      <th>1</th>\n",
       "      <td>bitcoin</td>\n",
       "      <td>BTC</td>\n",
       "      <td>Bitcoin</td>\n",
       "      <td>2013-04-29</td>\n",
       "      <td>1</td>\n",
       "      <td>134.44</td>\n",
       "      <td>147.49</td>\n",
       "      <td>134.00</td>\n",
       "      <td>144.54</td>\n",
       "      <td>0.0</td>\n",
       "      <td>1.491160e+09</td>\n",
       "      <td>0.7813</td>\n",
       "      <td>13.49</td>\n",
       "    </tr>\n",
       "    <tr>\n",
       "      <th>2</th>\n",
       "      <td>bitcoin</td>\n",
       "      <td>BTC</td>\n",
       "      <td>Bitcoin</td>\n",
       "      <td>2013-04-30</td>\n",
       "      <td>1</td>\n",
       "      <td>144.00</td>\n",
       "      <td>146.93</td>\n",
       "      <td>134.05</td>\n",
       "      <td>139.00</td>\n",
       "      <td>0.0</td>\n",
       "      <td>1.597780e+09</td>\n",
       "      <td>0.3843</td>\n",
       "      <td>12.88</td>\n",
       "    </tr>\n",
       "    <tr>\n",
       "      <th>3</th>\n",
       "      <td>bitcoin</td>\n",
       "      <td>BTC</td>\n",
       "      <td>Bitcoin</td>\n",
       "      <td>2013-05-01</td>\n",
       "      <td>1</td>\n",
       "      <td>139.00</td>\n",
       "      <td>139.89</td>\n",
       "      <td>107.72</td>\n",
       "      <td>116.99</td>\n",
       "      <td>0.0</td>\n",
       "      <td>1.542820e+09</td>\n",
       "      <td>0.2882</td>\n",
       "      <td>32.17</td>\n",
       "    </tr>\n",
       "    <tr>\n",
       "      <th>4</th>\n",
       "      <td>bitcoin</td>\n",
       "      <td>BTC</td>\n",
       "      <td>Bitcoin</td>\n",
       "      <td>2013-05-02</td>\n",
       "      <td>1</td>\n",
       "      <td>116.38</td>\n",
       "      <td>125.60</td>\n",
       "      <td>92.28</td>\n",
       "      <td>105.21</td>\n",
       "      <td>0.0</td>\n",
       "      <td>1.292190e+09</td>\n",
       "      <td>0.3881</td>\n",
       "      <td>33.32</td>\n",
       "    </tr>\n",
       "  </tbody>\n",
       "</table>\n",
       "</div>"
      ],
      "text/plain": [
       "      slug symbol     name       date  ranknow    open    high     low  \\\n",
       "0  bitcoin    BTC  Bitcoin 2013-04-28        1  135.30  135.98  132.10   \n",
       "1  bitcoin    BTC  Bitcoin 2013-04-29        1  134.44  147.49  134.00   \n",
       "2  bitcoin    BTC  Bitcoin 2013-04-30        1  144.00  146.93  134.05   \n",
       "3  bitcoin    BTC  Bitcoin 2013-05-01        1  139.00  139.89  107.72   \n",
       "4  bitcoin    BTC  Bitcoin 2013-05-02        1  116.38  125.60   92.28   \n",
       "\n",
       "    close  volume        market  close_ratio  spread  \n",
       "0  134.21     0.0  1.500520e+09       0.5438    3.88  \n",
       "1  144.54     0.0  1.491160e+09       0.7813   13.49  \n",
       "2  139.00     0.0  1.597780e+09       0.3843   12.88  \n",
       "3  116.99     0.0  1.542820e+09       0.2882   32.17  \n",
       "4  105.21     0.0  1.292190e+09       0.3881   33.32  "
      ]
     },
     "execution_count": 56,
     "metadata": {},
     "output_type": "execute_result"
    },
    {
     "data": {
      "text/plain": [
       "31749"
      ]
     },
     "execution_count": 56,
     "metadata": {},
     "output_type": "execute_result"
    }
   ],
   "source": [
    "origin[origin['volume']==0].head()\n",
    "len(origin[origin['volume']==0])"
   ]
  },
  {
   "cell_type": "code",
   "execution_count": 57,
   "metadata": {},
   "outputs": [
    {
     "data": {
      "text/html": [
       "<div>\n",
       "<style scoped>\n",
       "    .dataframe tbody tr th:only-of-type {\n",
       "        vertical-align: middle;\n",
       "    }\n",
       "\n",
       "    .dataframe tbody tr th {\n",
       "        vertical-align: top;\n",
       "    }\n",
       "\n",
       "    .dataframe thead th {\n",
       "        text-align: right;\n",
       "    }\n",
       "</style>\n",
       "<table border=\"1\" class=\"dataframe\">\n",
       "  <thead>\n",
       "    <tr style=\"text-align: right;\">\n",
       "      <th></th>\n",
       "      <th>slug</th>\n",
       "      <th>symbol</th>\n",
       "      <th>name</th>\n",
       "      <th>date</th>\n",
       "      <th>ranknow</th>\n",
       "      <th>open</th>\n",
       "      <th>high</th>\n",
       "      <th>low</th>\n",
       "      <th>close</th>\n",
       "      <th>volume</th>\n",
       "      <th>market</th>\n",
       "      <th>close_ratio</th>\n",
       "      <th>spread</th>\n",
       "    </tr>\n",
       "  </thead>\n",
       "  <tbody>\n",
       "    <tr>\n",
       "      <th>781396</th>\n",
       "      <td>bitok</td>\n",
       "      <td>BITOK</td>\n",
       "      <td>Bitok</td>\n",
       "      <td>2017-12-03</td>\n",
       "      <td>1630</td>\n",
       "      <td>0.000109</td>\n",
       "      <td>0.000111</td>\n",
       "      <td>0.000009</td>\n",
       "      <td>0.000009</td>\n",
       "      <td>0.0</td>\n",
       "      <td>0.0</td>\n",
       "      <td>0.0000</td>\n",
       "      <td>0.00</td>\n",
       "    </tr>\n",
       "    <tr>\n",
       "      <th>781612</th>\n",
       "      <td>aseancoin</td>\n",
       "      <td>ASN</td>\n",
       "      <td>Aseancoin</td>\n",
       "      <td>2017-10-04</td>\n",
       "      <td>1631</td>\n",
       "      <td>0.001771</td>\n",
       "      <td>0.001782</td>\n",
       "      <td>0.001720</td>\n",
       "      <td>0.001729</td>\n",
       "      <td>0.0</td>\n",
       "      <td>0.0</td>\n",
       "      <td>0.1452</td>\n",
       "      <td>0.00</td>\n",
       "    </tr>\n",
       "    <tr>\n",
       "      <th>781613</th>\n",
       "      <td>aseancoin</td>\n",
       "      <td>ASN</td>\n",
       "      <td>Aseancoin</td>\n",
       "      <td>2017-10-05</td>\n",
       "      <td>1631</td>\n",
       "      <td>0.001731</td>\n",
       "      <td>0.001734</td>\n",
       "      <td>0.001729</td>\n",
       "      <td>0.001734</td>\n",
       "      <td>0.0</td>\n",
       "      <td>0.0</td>\n",
       "      <td>1.0000</td>\n",
       "      <td>0.00</td>\n",
       "    </tr>\n",
       "    <tr>\n",
       "      <th>781619</th>\n",
       "      <td>aseancoin</td>\n",
       "      <td>ASN</td>\n",
       "      <td>Aseancoin</td>\n",
       "      <td>2017-10-11</td>\n",
       "      <td>1631</td>\n",
       "      <td>0.004667</td>\n",
       "      <td>0.004684</td>\n",
       "      <td>0.002458</td>\n",
       "      <td>0.002508</td>\n",
       "      <td>0.0</td>\n",
       "      <td>0.0</td>\n",
       "      <td>0.0225</td>\n",
       "      <td>0.00</td>\n",
       "    </tr>\n",
       "    <tr>\n",
       "      <th>783131</th>\n",
       "      <td>madcoin</td>\n",
       "      <td>MDC</td>\n",
       "      <td>Madcoin</td>\n",
       "      <td>2018-04-12</td>\n",
       "      <td>1637</td>\n",
       "      <td>0.005248</td>\n",
       "      <td>0.016607</td>\n",
       "      <td>0.003976</td>\n",
       "      <td>0.016528</td>\n",
       "      <td>0.0</td>\n",
       "      <td>9549.0</td>\n",
       "      <td>0.9937</td>\n",
       "      <td>0.01</td>\n",
       "    </tr>\n",
       "  </tbody>\n",
       "</table>\n",
       "</div>"
      ],
      "text/plain": [
       "             slug symbol       name       date  ranknow      open      high  \\\n",
       "781396      bitok  BITOK      Bitok 2017-12-03     1630  0.000109  0.000111   \n",
       "781612  aseancoin    ASN  Aseancoin 2017-10-04     1631  0.001771  0.001782   \n",
       "781613  aseancoin    ASN  Aseancoin 2017-10-05     1631  0.001731  0.001734   \n",
       "781619  aseancoin    ASN  Aseancoin 2017-10-11     1631  0.004667  0.004684   \n",
       "783131    madcoin    MDC    Madcoin 2018-04-12     1637  0.005248  0.016607   \n",
       "\n",
       "             low     close  volume  market  close_ratio  spread  \n",
       "781396  0.000009  0.000009     0.0     0.0       0.0000    0.00  \n",
       "781612  0.001720  0.001729     0.0     0.0       0.1452    0.00  \n",
       "781613  0.001729  0.001734     0.0     0.0       1.0000    0.00  \n",
       "781619  0.002458  0.002508     0.0     0.0       0.0225    0.00  \n",
       "783131  0.003976  0.016528     0.0  9549.0       0.9937    0.01  "
      ]
     },
     "execution_count": 57,
     "metadata": {},
     "output_type": "execute_result"
    }
   ],
   "source": [
    "origin[origin['volume']==0].tail()"
   ]
  },
  {
   "cell_type": "code",
   "execution_count": 58,
   "metadata": {},
   "outputs": [
    {
     "data": {
      "text/html": [
       "<div>\n",
       "<style scoped>\n",
       "    .dataframe tbody tr th:only-of-type {\n",
       "        vertical-align: middle;\n",
       "    }\n",
       "\n",
       "    .dataframe tbody tr th {\n",
       "        vertical-align: top;\n",
       "    }\n",
       "\n",
       "    .dataframe thead th {\n",
       "        text-align: right;\n",
       "    }\n",
       "</style>\n",
       "<table border=\"1\" class=\"dataframe\">\n",
       "  <thead>\n",
       "    <tr style=\"text-align: right;\">\n",
       "      <th></th>\n",
       "      <th>slug</th>\n",
       "      <th>symbol</th>\n",
       "      <th>name</th>\n",
       "      <th>date</th>\n",
       "      <th>ranknow</th>\n",
       "      <th>open</th>\n",
       "      <th>high</th>\n",
       "      <th>low</th>\n",
       "      <th>close</th>\n",
       "      <th>volume</th>\n",
       "      <th>market</th>\n",
       "      <th>close_ratio</th>\n",
       "      <th>spread</th>\n",
       "    </tr>\n",
       "  </thead>\n",
       "  <tbody>\n",
       "    <tr>\n",
       "      <th>1866</th>\n",
       "      <td>ethereum</td>\n",
       "      <td>ETH</td>\n",
       "      <td>Ethereum</td>\n",
       "      <td>2015-08-07</td>\n",
       "      <td>2</td>\n",
       "      <td>2.83</td>\n",
       "      <td>3.54</td>\n",
       "      <td>2.52</td>\n",
       "      <td>2.77</td>\n",
       "      <td>164329.0</td>\n",
       "      <td>0.0</td>\n",
       "      <td>0.2451</td>\n",
       "      <td>1.02</td>\n",
       "    </tr>\n",
       "    <tr>\n",
       "      <th>4669</th>\n",
       "      <td>bitcoin-cash</td>\n",
       "      <td>BCH</td>\n",
       "      <td>Bitcoin Cash</td>\n",
       "      <td>2017-07-23</td>\n",
       "      <td>4</td>\n",
       "      <td>555.89</td>\n",
       "      <td>578.97</td>\n",
       "      <td>411.78</td>\n",
       "      <td>413.06</td>\n",
       "      <td>85013.0</td>\n",
       "      <td>0.0</td>\n",
       "      <td>0.0077</td>\n",
       "      <td>167.19</td>\n",
       "    </tr>\n",
       "    <tr>\n",
       "      <th>4670</th>\n",
       "      <td>bitcoin-cash</td>\n",
       "      <td>BCH</td>\n",
       "      <td>Bitcoin Cash</td>\n",
       "      <td>2017-07-24</td>\n",
       "      <td>4</td>\n",
       "      <td>412.58</td>\n",
       "      <td>578.89</td>\n",
       "      <td>409.21</td>\n",
       "      <td>440.70</td>\n",
       "      <td>190952.0</td>\n",
       "      <td>0.0</td>\n",
       "      <td>0.1856</td>\n",
       "      <td>169.68</td>\n",
       "    </tr>\n",
       "    <tr>\n",
       "      <th>4671</th>\n",
       "      <td>bitcoin-cash</td>\n",
       "      <td>BCH</td>\n",
       "      <td>Bitcoin Cash</td>\n",
       "      <td>2017-07-25</td>\n",
       "      <td>4</td>\n",
       "      <td>441.35</td>\n",
       "      <td>541.66</td>\n",
       "      <td>338.09</td>\n",
       "      <td>406.90</td>\n",
       "      <td>524908.0</td>\n",
       "      <td>0.0</td>\n",
       "      <td>0.3380</td>\n",
       "      <td>203.57</td>\n",
       "    </tr>\n",
       "    <tr>\n",
       "      <th>4672</th>\n",
       "      <td>bitcoin-cash</td>\n",
       "      <td>BCH</td>\n",
       "      <td>Bitcoin Cash</td>\n",
       "      <td>2017-07-26</td>\n",
       "      <td>4</td>\n",
       "      <td>407.08</td>\n",
       "      <td>486.16</td>\n",
       "      <td>321.79</td>\n",
       "      <td>365.82</td>\n",
       "      <td>1784640.0</td>\n",
       "      <td>0.0</td>\n",
       "      <td>0.2679</td>\n",
       "      <td>164.37</td>\n",
       "    </tr>\n",
       "  </tbody>\n",
       "</table>\n",
       "</div>"
      ],
      "text/plain": [
       "              slug symbol          name       date  ranknow    open    high  \\\n",
       "1866      ethereum    ETH      Ethereum 2015-08-07        2    2.83    3.54   \n",
       "4669  bitcoin-cash    BCH  Bitcoin Cash 2017-07-23        4  555.89  578.97   \n",
       "4670  bitcoin-cash    BCH  Bitcoin Cash 2017-07-24        4  412.58  578.89   \n",
       "4671  bitcoin-cash    BCH  Bitcoin Cash 2017-07-25        4  441.35  541.66   \n",
       "4672  bitcoin-cash    BCH  Bitcoin Cash 2017-07-26        4  407.08  486.16   \n",
       "\n",
       "         low   close     volume  market  close_ratio  spread  \n",
       "1866    2.52    2.77   164329.0     0.0       0.2451    1.02  \n",
       "4669  411.78  413.06    85013.0     0.0       0.0077  167.19  \n",
       "4670  409.21  440.70   190952.0     0.0       0.1856  169.68  \n",
       "4671  338.09  406.90   524908.0     0.0       0.3380  203.57  \n",
       "4672  321.79  365.82  1784640.0     0.0       0.2679  164.37  "
      ]
     },
     "execution_count": 58,
     "metadata": {},
     "output_type": "execute_result"
    },
    {
     "data": {
      "text/plain": [
       "102712"
      ]
     },
     "execution_count": 58,
     "metadata": {},
     "output_type": "execute_result"
    }
   ],
   "source": [
    "origin[origin['market']==0].head()\n",
    "len(origin[origin['market']==0])"
   ]
  },
  {
   "cell_type": "code",
   "execution_count": 59,
   "metadata": {},
   "outputs": [
    {
     "data": {
      "text/html": [
       "<div>\n",
       "<style scoped>\n",
       "    .dataframe tbody tr th:only-of-type {\n",
       "        vertical-align: middle;\n",
       "    }\n",
       "\n",
       "    .dataframe tbody tr th {\n",
       "        vertical-align: top;\n",
       "    }\n",
       "\n",
       "    .dataframe thead th {\n",
       "        text-align: right;\n",
       "    }\n",
       "</style>\n",
       "<table border=\"1\" class=\"dataframe\">\n",
       "  <thead>\n",
       "    <tr style=\"text-align: right;\">\n",
       "      <th></th>\n",
       "      <th>slug</th>\n",
       "      <th>symbol</th>\n",
       "      <th>name</th>\n",
       "      <th>date</th>\n",
       "      <th>ranknow</th>\n",
       "      <th>open</th>\n",
       "      <th>high</th>\n",
       "      <th>low</th>\n",
       "      <th>close</th>\n",
       "      <th>volume</th>\n",
       "      <th>market</th>\n",
       "      <th>close_ratio</th>\n",
       "      <th>spread</th>\n",
       "    </tr>\n",
       "  </thead>\n",
       "  <tbody>\n",
       "    <tr>\n",
       "      <th>336513</th>\n",
       "      <td>gcn-coin</td>\n",
       "      <td>GCN</td>\n",
       "      <td>GCN Coin</td>\n",
       "      <td>2014-11-16</td>\n",
       "      <td>792</td>\n",
       "      <td>4.000000e-08</td>\n",
       "      <td>4.100000e-08</td>\n",
       "      <td>4.100000e-08</td>\n",
       "      <td>4.000000e-08</td>\n",
       "      <td>1.0</td>\n",
       "      <td>2443.0</td>\n",
       "      <td>-inf</td>\n",
       "      <td>0.0</td>\n",
       "    </tr>\n",
       "  </tbody>\n",
       "</table>\n",
       "</div>"
      ],
      "text/plain": [
       "            slug symbol      name       date  ranknow          open  \\\n",
       "336513  gcn-coin    GCN  GCN Coin 2014-11-16      792  4.000000e-08   \n",
       "\n",
       "                high           low         close  volume  market  close_ratio  \\\n",
       "336513  4.100000e-08  4.100000e-08  4.000000e-08     1.0  2443.0         -inf   \n",
       "\n",
       "        spread  \n",
       "336513     0.0  "
      ]
     },
     "execution_count": 59,
     "metadata": {},
     "output_type": "execute_result"
    }
   ],
   "source": [
    "origin[origin['close_ratio']==min(origin['close_ratio'])]"
   ]
  },
  {
   "cell_type": "code",
   "execution_count": 60,
   "metadata": {},
   "outputs": [
    {
     "data": {
      "text/html": [
       "<div>\n",
       "<style scoped>\n",
       "    .dataframe tbody tr th:only-of-type {\n",
       "        vertical-align: middle;\n",
       "    }\n",
       "\n",
       "    .dataframe tbody tr th {\n",
       "        vertical-align: top;\n",
       "    }\n",
       "\n",
       "    .dataframe thead th {\n",
       "        text-align: right;\n",
       "    }\n",
       "</style>\n",
       "<table border=\"1\" class=\"dataframe\">\n",
       "  <thead>\n",
       "    <tr style=\"text-align: right;\">\n",
       "      <th></th>\n",
       "      <th>slug</th>\n",
       "      <th>symbol</th>\n",
       "      <th>name</th>\n",
       "      <th>date</th>\n",
       "      <th>ranknow</th>\n",
       "      <th>open</th>\n",
       "      <th>high</th>\n",
       "      <th>low</th>\n",
       "      <th>close</th>\n",
       "      <th>volume</th>\n",
       "      <th>market</th>\n",
       "      <th>close_ratio</th>\n",
       "      <th>spread</th>\n",
       "    </tr>\n",
       "  </thead>\n",
       "  <tbody>\n",
       "    <tr>\n",
       "      <th>137369</th>\n",
       "      <td>paccoin</td>\n",
       "      <td>$PAC</td>\n",
       "      <td>PACcoin</td>\n",
       "      <td>2015-11-22</td>\n",
       "      <td>324</td>\n",
       "      <td>6.500000e-09</td>\n",
       "      <td>6.600000e-09</td>\n",
       "      <td>5.800000e-09</td>\n",
       "      <td>5.700000e-09</td>\n",
       "      <td>22.0</td>\n",
       "      <td>0.0</td>\n",
       "      <td>-0.1250</td>\n",
       "      <td>0.0</td>\n",
       "    </tr>\n",
       "    <tr>\n",
       "      <th>137396</th>\n",
       "      <td>paccoin</td>\n",
       "      <td>$PAC</td>\n",
       "      <td>PACcoin</td>\n",
       "      <td>2015-12-19</td>\n",
       "      <td>324</td>\n",
       "      <td>6.500000e-09</td>\n",
       "      <td>7.900000e-09</td>\n",
       "      <td>5.400000e-09</td>\n",
       "      <td>5.300000e-09</td>\n",
       "      <td>10.0</td>\n",
       "      <td>0.0</td>\n",
       "      <td>-0.0400</td>\n",
       "      <td>0.0</td>\n",
       "    </tr>\n",
       "    <tr>\n",
       "      <th>137414</th>\n",
       "      <td>paccoin</td>\n",
       "      <td>$PAC</td>\n",
       "      <td>PACcoin</td>\n",
       "      <td>2016-01-06</td>\n",
       "      <td>324</td>\n",
       "      <td>6.800000e-09</td>\n",
       "      <td>7.300000e-09</td>\n",
       "      <td>6.200000e-09</td>\n",
       "      <td>6.100000e-09</td>\n",
       "      <td>13.0</td>\n",
       "      <td>0.0</td>\n",
       "      <td>-0.0909</td>\n",
       "      <td>0.0</td>\n",
       "    </tr>\n",
       "    <tr>\n",
       "      <th>137426</th>\n",
       "      <td>paccoin</td>\n",
       "      <td>$PAC</td>\n",
       "      <td>PACcoin</td>\n",
       "      <td>2016-01-18</td>\n",
       "      <td>324</td>\n",
       "      <td>6.200000e-09</td>\n",
       "      <td>6.400000e-09</td>\n",
       "      <td>5.900000e-09</td>\n",
       "      <td>5.800000e-09</td>\n",
       "      <td>8.0</td>\n",
       "      <td>0.0</td>\n",
       "      <td>-0.2000</td>\n",
       "      <td>0.0</td>\n",
       "    </tr>\n",
       "    <tr>\n",
       "      <th>137599</th>\n",
       "      <td>paccoin</td>\n",
       "      <td>$PAC</td>\n",
       "      <td>PACcoin</td>\n",
       "      <td>2016-07-09</td>\n",
       "      <td>324</td>\n",
       "      <td>8.900000e-09</td>\n",
       "      <td>1.000000e-08</td>\n",
       "      <td>8.300000e-09</td>\n",
       "      <td>8.200000e-09</td>\n",
       "      <td>1.0</td>\n",
       "      <td>0.0</td>\n",
       "      <td>-0.0588</td>\n",
       "      <td>0.0</td>\n",
       "    </tr>\n",
       "  </tbody>\n",
       "</table>\n",
       "</div>"
      ],
      "text/plain": [
       "           slug symbol     name       date  ranknow          open  \\\n",
       "137369  paccoin   $PAC  PACcoin 2015-11-22      324  6.500000e-09   \n",
       "137396  paccoin   $PAC  PACcoin 2015-12-19      324  6.500000e-09   \n",
       "137414  paccoin   $PAC  PACcoin 2016-01-06      324  6.800000e-09   \n",
       "137426  paccoin   $PAC  PACcoin 2016-01-18      324  6.200000e-09   \n",
       "137599  paccoin   $PAC  PACcoin 2016-07-09      324  8.900000e-09   \n",
       "\n",
       "                high           low         close  volume  market  close_ratio  \\\n",
       "137369  6.600000e-09  5.800000e-09  5.700000e-09    22.0     0.0      -0.1250   \n",
       "137396  7.900000e-09  5.400000e-09  5.300000e-09    10.0     0.0      -0.0400   \n",
       "137414  7.300000e-09  6.200000e-09  6.100000e-09    13.0     0.0      -0.0909   \n",
       "137426  6.400000e-09  5.900000e-09  5.800000e-09     8.0     0.0      -0.2000   \n",
       "137599  1.000000e-08  8.300000e-09  8.200000e-09     1.0     0.0      -0.0588   \n",
       "\n",
       "        spread  \n",
       "137369     0.0  \n",
       "137396     0.0  \n",
       "137414     0.0  \n",
       "137426     0.0  \n",
       "137599     0.0  "
      ]
     },
     "execution_count": 60,
     "metadata": {},
     "output_type": "execute_result"
    },
    {
     "data": {
      "text/plain": [
       "31"
      ]
     },
     "execution_count": 60,
     "metadata": {},
     "output_type": "execute_result"
    }
   ],
   "source": [
    "origin[origin['close']<origin['low']].head()\n",
    "len(origin[origin['close']<origin['low']])"
   ]
  },
  {
   "cell_type": "markdown",
   "metadata": {},
   "source": [
    "------"
   ]
  },
  {
   "cell_type": "code",
   "execution_count": 79,
   "metadata": {},
   "outputs": [
    {
     "data": {
      "text/plain": [
       "63                            antimatter\n",
       "72                                 arbit\n",
       "85                             aseancoin\n",
       "87                          asiadigicoin\n",
       "88                                 aston\n",
       "146                          bios-crypto\n",
       "192                                bitok\n",
       "201                      bitshares-music\n",
       "212                                 bitz\n",
       "258                             britcoin\n",
       "300                               centra\n",
       "354                               copico\n",
       "365                              creatio\n",
       "388                   cryptoworldx-token\n",
       "390                    cthulhu-offerings\n",
       "399                         cycling-coin\n",
       "409                              darcrus\n",
       "410                             darklisk\n",
       "436                         deltacredits\n",
       "484                            dreamcoin\n",
       "542                              entcash\n",
       "567               ethereum-movie-venture\n",
       "624                              flycoin\n",
       "653                          gbcgoldcoin\n",
       "668                       global-jobcoin\n",
       "697     guaranteed-ethurance-token-extra\n",
       "723                         hempcoin-hmp\n",
       "753                                hyper\n",
       "816                             islacoin\n",
       "826                               jewels\n",
       "829                         jingtum-tech\n",
       "836                            karmacoin\n",
       "837                            kashhcoin\n",
       "894                             litecred\n",
       "910                                lykke\n",
       "914                               macron\n",
       "953                     metal-music-coin\n",
       "1067                             omicron\n",
       "1087                             ox-fina\n",
       "1105                            paycoin2\n",
       "1261                           royalcoin\n",
       "1291                          selfiecoin\n",
       "1310                           shellcoin\n",
       "1313                            shilling\n",
       "1371                          sportscoin\n",
       "1375                              srcoin\n",
       "1392                               steps\n",
       "1435                            tagrcoin\n",
       "1463                        titanium-bar\n",
       "1464                 titanium-blockchain\n",
       "1468                           todaycoin\n",
       "1545                               vcash\n",
       "Name: slug, dtype: object"
      ]
     },
     "execution_count": 79,
     "metadata": {},
     "output_type": "execute_result"
    }
   ],
   "source": [
    "bit_max_date = max(origin[origin['slug']=='bitcoin']['date'])\n",
    "a = (origin.groupby('slug')['date'].max()<bit_max_date)\n",
    "a = a.reset_index()\n",
    "\n",
    "a.loc[a.date==True,'slug']"
   ]
  },
  {
   "cell_type": "code",
   "execution_count": 61,
   "metadata": {},
   "outputs": [
    {
     "data": {
      "text/plain": [
       "52"
      ]
     },
     "execution_count": 61,
     "metadata": {},
     "output_type": "execute_result"
    }
   ],
   "source": [
    "bit_max_date = max(origin[origin['slug']=='bitcoin']['date'])\n",
    "sum(origin.groupby('slug')['date'].max()<bit_max_date)\n",
    "#origin.groupby('slug')[origin.groupby('name')['date'].max()<bit_max_date]\n",
    "\n",
    "(origin.groupby('slug')['date'].max()<bit_max_date)==True"
   ]
  },
  {
   "cell_type": "code",
   "execution_count": null,
   "metadata": {},
   "outputs": [],
   "source": []
  }
 ],
 "metadata": {
  "kernelspec": {
   "display_name": "Python 3",
   "language": "python",
   "name": "python3"
  },
  "language_info": {
   "codemirror_mode": {
    "name": "ipython",
    "version": 3
   },
   "file_extension": ".py",
   "mimetype": "text/x-python",
   "name": "python",
   "nbconvert_exporter": "python",
   "pygments_lexer": "ipython3",
   "version": "3.5.2"
  }
 },
 "nbformat": 4,
 "nbformat_minor": 2
}
