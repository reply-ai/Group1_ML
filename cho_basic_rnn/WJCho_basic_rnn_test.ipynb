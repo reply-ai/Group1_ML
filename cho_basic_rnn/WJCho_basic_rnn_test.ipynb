{
 "cells": [
  {
   "cell_type": "code",
   "execution_count": 1,
   "metadata": {},
   "outputs": [],
   "source": [
    "import tensorflow as tf\n",
    "import numpy as np\n",
    "import pandas as pd\n",
    "import matplotlib as mpl\n",
    "import matplotlib.pyplot as plt"
   ]
  },
  {
   "cell_type": "code",
   "execution_count": 2,
   "metadata": {},
   "outputs": [],
   "source": [
    "%matplotlib inline"
   ]
  },
  {
   "cell_type": "code",
   "execution_count": 3,
   "metadata": {},
   "outputs": [],
   "source": [
    "tf.set_random_seed(777)"
   ]
  },
  {
   "cell_type": "code",
   "execution_count": 4,
   "metadata": {},
   "outputs": [
    {
     "name": "stdout",
     "output_type": "stream",
     "text": [
      "<class 'pandas.core.frame.DataFrame'>\n",
      "RangeIndex: 1624 entries, 0 to 1623\n",
      "Data columns (total 6 columns):\n",
      "date      1624 non-null object\n",
      "open      1624 non-null object\n",
      "high      1624 non-null object\n",
      "low       1624 non-null object\n",
      "close     1624 non-null object\n",
      "volume    1624 non-null object\n",
      "dtypes: object(6)\n",
      "memory usage: 76.2+ KB\n"
     ]
    }
   ],
   "source": [
    "f_name = 'bitcoin.csv'\n",
    "encoding = 'euc-kr'\n",
    "names = ['date','open','high','low','close','volume']\n",
    "df = pd.read_csv(f_name, names=names, encoding=encoding)\n",
    "df.info()"
   ]
  },
  {
   "cell_type": "code",
   "execution_count": 5,
   "metadata": {},
   "outputs": [],
   "source": [
    "del df['date']"
   ]
  },
  {
   "cell_type": "code",
   "execution_count": 6,
   "metadata": {},
   "outputs": [],
   "source": [
    "coin_float = df.values[1:].astype(np.float)"
   ]
  },
  {
   "cell_type": "code",
   "execution_count": 7,
   "metadata": {},
   "outputs": [
    {
     "name": "stdout",
     "output_type": "stream",
     "text": [
      "(1623, 5)\n",
      "[7.63280e+02 7.77510e+02 7.13600e+02 7.35070e+02 4.68627e+07]\n"
     ]
    }
   ],
   "source": [
    "print(coin_float.shape)\n",
    "print(coin_float[0])"
   ]
  },
  {
   "cell_type": "code",
   "execution_count": 8,
   "metadata": {},
   "outputs": [],
   "source": [
    "def min_max_scaling(x):\n",
    "    x_np = np.asarray(x)\n",
    "    return (x_np - x_np.min()) / (x_np.max() - x_np.min() + 1e-7)"
   ]
  },
  {
   "cell_type": "code",
   "execution_count": 9,
   "metadata": {},
   "outputs": [],
   "source": [
    "index = coin_float[:,:-1]\n",
    "norm_index = min_max_scaling(index)"
   ]
  },
  {
   "cell_type": "code",
   "execution_count": 10,
   "metadata": {},
   "outputs": [
    {
     "name": "stdout",
     "output_type": "stream",
     "text": [
      "(1623, 4)\n",
      "[763.28 777.51 713.6  735.07]\n",
      "[0.02971107 0.03042552 0.02721678 0.02829473]\n"
     ]
    }
   ],
   "source": [
    "print(index.shape)\n",
    "print(index[0])\n",
    "print(norm_index[0])"
   ]
  },
  {
   "cell_type": "code",
   "execution_count": 11,
   "metadata": {},
   "outputs": [],
   "source": [
    "volume = coin_float[:,-1:]\n",
    "norm_volume = min_max_scaling(volume)"
   ]
  },
  {
   "cell_type": "code",
   "execution_count": 12,
   "metadata": {},
   "outputs": [
    {
     "name": "stdout",
     "output_type": "stream",
     "text": [
      "(1623, 1)\n",
      "[20892300.]\n",
      "[0.00075654]\n"
     ]
    }
   ],
   "source": [
    "print(volume.shape)\n",
    "print(volume[500])\n",
    "print(norm_volume[500])"
   ]
  },
  {
   "cell_type": "code",
   "execution_count": 13,
   "metadata": {},
   "outputs": [],
   "source": [
    "x = np.concatenate((norm_index, norm_volume), axis=1)"
   ]
  },
  {
   "cell_type": "code",
   "execution_count": 14,
   "metadata": {},
   "outputs": [
    {
     "name": "stdout",
     "output_type": "stream",
     "text": [
      "(1623, 5)\n",
      "[0.37426704 0.37700132 0.36804336 0.37567334 0.19671927]\n"
     ]
    }
   ],
   "source": [
    "print(x.shape)\n",
    "print(x[-1])"
   ]
  },
  {
   "cell_type": "code",
   "execution_count": 15,
   "metadata": {},
   "outputs": [],
   "source": [
    "y = x[:, [-2]]"
   ]
  },
  {
   "cell_type": "code",
   "execution_count": 16,
   "metadata": {},
   "outputs": [
    {
     "name": "stdout",
     "output_type": "stream",
     "text": [
      "(1623, 1)\n",
      "[0.02829473]\n",
      "[0.37567334]\n"
     ]
    }
   ],
   "source": [
    "print(y.shape)\n",
    "print(y[0])\n",
    "print(y[-1])"
   ]
  },
  {
   "cell_type": "code",
   "execution_count": 17,
   "metadata": {},
   "outputs": [],
   "source": [
    "dataX = []\n",
    "dataY = []"
   ]
  },
  {
   "cell_type": "code",
   "execution_count": 18,
   "metadata": {},
   "outputs": [],
   "source": [
    "seq_length = 28\n",
    "for i in range(0, len(y) - seq_length):\n",
    "    _x = x[i: i + seq_length]\n",
    "    _y = y[i + seq_length]\n",
    "    dataX.append(_x)\n",
    "    dataY.append(_y)"
   ]
  },
  {
   "cell_type": "code",
   "execution_count": 19,
   "metadata": {},
   "outputs": [
    {
     "name": "stdout",
     "output_type": "stream",
     "text": [
      "[[0.02971107 0.03042552 0.02721678 0.02829473 0.00184599]\n",
      " [0.02844083 0.02889671 0.02680257 0.02793123 0.00124373]\n",
      " [0.02794228 0.02897453 0.02725896 0.0287958  0.00067763]\n",
      " [0.02861003 0.02987776 0.0285543  0.02935209 0.0007488 ]\n",
      " [0.02956246 0.02957551 0.02845037 0.02924565 0.00075675]\n",
      " [0.02929385 0.03031707 0.02929385 0.03011875 0.00082354]\n",
      " [0.03022118 0.03257439 0.02990839 0.03167467 0.00149474]\n",
      " [0.03169777 0.03326925 0.03100843 0.03249456 0.00146624]\n",
      " [0.032723   0.03454251 0.03163852 0.03454251 0.00147442]\n",
      " [0.03449431 0.03920625 0.03429197 0.03825884 0.00293819]\n",
      " [0.03838536 0.04245565 0.03686207 0.03925093 0.00346957]\n",
      " [0.03890952 0.03987601 0.03165509 0.03165509 0.00329112]\n",
      " [0.03135335 0.03510332 0.03035875 0.03369953 0.00299176]\n",
      " [0.03363677 0.03478601 0.03176254 0.03390738 0.00239704]\n",
      " [0.03389885 0.03512892 0.03268936 0.03499286 0.00121734]\n",
      " [0.03493462 0.03765384 0.03465346 0.03727578 0.00175754]\n",
      " [0.03755945 0.0380073  0.03412378 0.03472877 0.00154231]\n",
      " [0.03457665 0.03463187 0.03185843 0.03362321 0.00179222]\n",
      " [0.03372212 0.03435071 0.03284299 0.03322507 0.00075392]\n",
      " [0.03321754 0.03521026 0.03310407 0.03461229 0.0010592 ]\n",
      " [0.03458167 0.03487638 0.03334356 0.03334356 0.00068342]\n",
      " [0.03328632 0.03370907 0.03143569 0.03228971 0.00151748]\n",
      " [0.03236151 0.03363777 0.03236151 0.03356296 0.00063742]\n",
      " [0.03354589 0.03511738 0.03283647 0.03511738 0.00090225]\n",
      " [0.03513897 0.03589207 0.03425934 0.03507922 0.00104014]\n",
      " [0.03505161 0.0356315  0.03436276 0.03476342 0.00067705]\n",
      " [0.0349291  0.03507671 0.03343042 0.03384362 0.00065424]\n",
      " [0.03383709 0.03414386 0.03252468 0.03266124 0.00053483]]\n"
     ]
    }
   ],
   "source": [
    "print(dataX[0])"
   ]
  },
  {
   "cell_type": "code",
   "execution_count": 20,
   "metadata": {},
   "outputs": [
    {
     "name": "stdout",
     "output_type": "stream",
     "text": [
      "[0.03140757]\n"
     ]
    }
   ],
   "source": [
    "print(dataY[0])"
   ]
  },
  {
   "cell_type": "code",
   "execution_count": 21,
   "metadata": {},
   "outputs": [],
   "source": [
    "train_size = int(len(dataY)* 0.7)\n",
    "test_size = len(dataY) - train_size"
   ]
  },
  {
   "cell_type": "code",
   "execution_count": 22,
   "metadata": {},
   "outputs": [
    {
     "name": "stdout",
     "output_type": "stream",
     "text": [
      "1595\n",
      "1116\n",
      "479\n"
     ]
    }
   ],
   "source": [
    "print(len(dataY))\n",
    "print(train_size)\n",
    "print(test_size)"
   ]
  },
  {
   "cell_type": "code",
   "execution_count": 23,
   "metadata": {},
   "outputs": [],
   "source": [
    "trainX = np.array(dataX[0:train_size])\n",
    "trainY = np.array(dataY[0:train_size])\n",
    "\n",
    "testX = np.array(dataX[train_size:len(dataX)])\n",
    "testY = np.array(dataY[train_size:len(dataY)])"
   ]
  },
  {
   "cell_type": "code",
   "execution_count": 24,
   "metadata": {},
   "outputs": [
    {
     "name": "stdout",
     "output_type": "stream",
     "text": [
      "(1116, 28, 5)\n",
      "(1116, 1)\n",
      "(479, 28, 5)\n",
      "(479, 1)\n"
     ]
    }
   ],
   "source": [
    "print(trainX.shape)\n",
    "print(trainY.shape)\n",
    "print(testX.shape)\n",
    "print(testY.shape)"
   ]
  },
  {
   "cell_type": "code",
   "execution_count": 25,
   "metadata": {},
   "outputs": [],
   "source": [
    "input_data_column_count = 5\n",
    "output_data_column_count = 1\n",
    "\n",
    "X = tf.placeholder(tf.float32, [None, seq_length, input_data_column_count])\n",
    "Y = tf.placeholder(tf.float32, [None, 1])\n",
    "\n",
    "targets = tf.placeholder(tf.float32, [None, 1])\n",
    "predictions = tf.placeholder(tf.float32, [None, 1])"
   ]
  },
  {
   "cell_type": "code",
   "execution_count": 26,
   "metadata": {},
   "outputs": [
    {
     "name": "stdout",
     "output_type": "stream",
     "text": [
      "Tensor(\"Placeholder:0\", shape=(?, 28, 5), dtype=float32)\n",
      "Tensor(\"Placeholder_1:0\", shape=(?, 1), dtype=float32)\n",
      "Tensor(\"Placeholder_2:0\", shape=(?, 1), dtype=float32)\n",
      "Tensor(\"Placeholder_3:0\", shape=(?, 1), dtype=float32)\n"
     ]
    }
   ],
   "source": [
    "print(X)\n",
    "print(Y)\n",
    "print(targets)\n",
    "print(predictions)"
   ]
  },
  {
   "cell_type": "code",
   "execution_count": 27,
   "metadata": {},
   "outputs": [],
   "source": [
    "rnn_cell_hidden_dim = 20\n",
    "forget_bias = 1.0\n",
    "num_stacked_layers = 1\n",
    "keep_prob = 1.0\n",
    "\n",
    "epoch_num = 1000\n",
    "learning_rate = 0.01"
   ]
  },
  {
   "cell_type": "code",
   "execution_count": 28,
   "metadata": {},
   "outputs": [],
   "source": [
    "def lstm_cell():\n",
    "    cell = tf.contrib.rnn.BasicLSTMCell(num_units=rnn_cell_hidden_dim,\n",
    "                                       forget_bias=forget_bias,\n",
    "                                       state_is_tuple=True,\n",
    "                                       activation=tf.nn.softsign)\n",
    "    if keep_prob < 1.0:\n",
    "        cell = tf.contrib.rnn.DropoutWrapper(cell, output_keep_prob=keep_prob)\n",
    "    return cell"
   ]
  },
  {
   "cell_type": "code",
   "execution_count": 29,
   "metadata": {},
   "outputs": [
    {
     "name": "stdout",
     "output_type": "stream",
     "text": [
      "WARNING:tensorflow:From C:\\Users\\User\\Anaconda3\\envs\\py35cu90tf-reply-ai\\lib\\site-packages\\tensorflow\\contrib\\learn\\python\\learn\\datasets\\base.py:198: retry (from tensorflow.contrib.learn.python.learn.datasets.base) is deprecated and will be removed in a future version.\n",
      "Instructions for updating:\n",
      "Use the retry module or similar alternatives.\n"
     ]
    }
   ],
   "source": [
    "stackedRNNs = [lstm_cell() for _ in range(num_stacked_layers)]\n",
    "multi_cells = tf.contrib.rnn.MultiRNNCell(stackedRNNs, state_is_tuple=True) if num_stacked_layers > 1 else lstm_cell()"
   ]
  },
  {
   "cell_type": "code",
   "execution_count": 30,
   "metadata": {},
   "outputs": [],
   "source": [
    "hypothesis, _states = tf.nn.dynamic_rnn(multi_cells, X, dtype=tf.float32)"
   ]
  },
  {
   "cell_type": "code",
   "execution_count": 31,
   "metadata": {},
   "outputs": [
    {
     "name": "stdout",
     "output_type": "stream",
     "text": [
      "Tensor(\"rnn/transpose_1:0\", shape=(?, 28, 20), dtype=float32)\n"
     ]
    }
   ],
   "source": [
    "print(hypothesis)"
   ]
  },
  {
   "cell_type": "code",
   "execution_count": 32,
   "metadata": {},
   "outputs": [],
   "source": [
    "hypothesis = tf.contrib.layers.fully_connected(hypothesis[:, -1], output_data_column_count, activation_fn=tf.identity)"
   ]
  },
  {
   "cell_type": "code",
   "execution_count": 33,
   "metadata": {},
   "outputs": [],
   "source": [
    "loss = tf.reduce_sum(tf.square(hypothesis - Y))"
   ]
  },
  {
   "cell_type": "code",
   "execution_count": 34,
   "metadata": {},
   "outputs": [],
   "source": [
    "optimizer = tf.train.AdamOptimizer(learning_rate=learning_rate)"
   ]
  },
  {
   "cell_type": "code",
   "execution_count": 35,
   "metadata": {},
   "outputs": [],
   "source": [
    "train = optimizer.minimize(loss)"
   ]
  },
  {
   "cell_type": "code",
   "execution_count": 36,
   "metadata": {},
   "outputs": [],
   "source": [
    "rmse = tf.sqrt(tf.reduce_mean(tf.squared_difference(targets, predictions)))"
   ]
  },
  {
   "cell_type": "code",
   "execution_count": 37,
   "metadata": {},
   "outputs": [],
   "source": [
    "train_error_summary = []\n",
    "test_error_summary = []\n",
    "test_predict = \"\""
   ]
  },
  {
   "cell_type": "code",
   "execution_count": 38,
   "metadata": {},
   "outputs": [],
   "source": [
    "sess = tf.Session()\n",
    "sess.run(tf.global_variables_initializer())"
   ]
  },
  {
   "cell_type": "code",
   "execution_count": 39,
   "metadata": {},
   "outputs": [],
   "source": [
    "import datetime"
   ]
  },
  {
   "cell_type": "code",
   "execution_count": 40,
   "metadata": {},
   "outputs": [],
   "source": [
    "start_time = datetime.datetime.now()"
   ]
  },
  {
   "cell_type": "code",
   "execution_count": 41,
   "metadata": {},
   "outputs": [
    {
     "name": "stdout",
     "output_type": "stream",
     "text": [
      "epoch: 100, train_error(A): 0.0014159796992316842, test_error(B): 0.18968194723129272, B-A: 0.18826596438884735\n",
      "epoch: 200, train_error(A): 0.0013573369942605495, test_error(B): 0.1825522780418396, B-A: 0.1811949461698532\n",
      "epoch: 300, train_error(A): 0.0013199804816395044, test_error(B): 0.17393171787261963, B-A: 0.17261174321174622\n",
      "epoch: 400, train_error(A): 0.001284469268284738, test_error(B): 0.16514025628566742, B-A: 0.16385579109191895\n",
      "epoch: 500, train_error(A): 0.001251670066267252, test_error(B): 0.156352236866951, B-A: 0.15510056912899017\n",
      "epoch: 600, train_error(A): 0.0012215127935633063, test_error(B): 0.14745642244815826, B-A: 0.1462349146604538\n",
      "epoch: 700, train_error(A): 0.0011942907003685832, test_error(B): 0.13841892778873444, B-A: 0.13722464442253113\n",
      "epoch: 800, train_error(A): 0.001170154893770814, test_error(B): 0.12936292588710785, B-A: 0.12819276750087738\n",
      "epoch: 900, train_error(A): 0.0011491875629872084, test_error(B): 0.12070939689874649, B-A: 0.11956021189689636\n",
      "epoch: 1000, train_error(A): 0.001131230965256691, test_error(B): 0.11299591511487961, B-A: 0.11186468601226807\n"
     ]
    }
   ],
   "source": [
    "for epoch in range(epoch_num):\n",
    "    _, _loss = sess.run([train, loss], feed_dict={X:trainX, Y:trainY})\n",
    "    if((epoch+1)%100 == 0) or (epoch == epoch_num-1):\n",
    "        train_predict = sess.run(hypothesis, feed_dict={X:trainX})\n",
    "        train_error = sess.run(rmse, feed_dict={targets:trainY, predictions:train_predict})\n",
    "        train_error_summary.append(train_error)\n",
    "        \n",
    "        test_predict = sess.run(hypothesis, feed_dict={X:testX})\n",
    "        test_error = sess.run(rmse, feed_dict={targets:testY, predictions: test_predict})\n",
    "        test_error_summary.append(test_error)\n",
    "        \n",
    "        print(\"epoch: {}, train_error(A): {}, test_error(B): {}, B-A: {}\".format(epoch+1, train_error, test_error, test_error-train_error))\n",
    "\n",
    "end_time = datetime.datetime.now()\n",
    "elapsed_time = end_time - start_time"
   ]
  },
  {
   "cell_type": "code",
   "execution_count": 42,
   "metadata": {},
   "outputs": [
    {
     "data": {
      "text/plain": [
       "Text(0,0.5,'Root Mean Square Error')"
      ]
     },
     "execution_count": 42,
     "metadata": {},
     "output_type": "execute_result"
    },
    {
     "data": {
      "image/png": "[encoded data removed]",
      "text/plain": [
       "<Figure size 432x288 with 1 Axes>"
      ]
     },
     "metadata": {},
     "output_type": "display_data"
    }
   ],
   "source": [
    "plt.figure(1)\n",
    "plt.plot(train_error_summary, 'gold')\n",
    "plt.plot(test_error_summary, 'b')\n",
    "plt.xlabel('Epoch(x100)')\n",
    "plt.ylabel('Root Mean Square Error')"
   ]
  },
  {
   "cell_type": "code",
   "execution_count": 43,
   "metadata": {},
   "outputs": [
    {
     "data": {
      "image/png": "[encoded data removed]",
      "text/plain": [
       "<Figure size 432x288 with 1 Axes>"
      ]
     },
     "metadata": {},
     "output_type": "display_data"
    }
   ],
   "source": [
    "plt.figure(2)\n",
    "plt.plot(testY, 'r')\n",
    "plt.plot(test_predict, 'b')\n",
    "plt.xlabel('Time Period')\n",
    "plt.ylabel('Stock Price')\n",
    "plt.show()"
   ]
  },
  {
   "cell_type": "code",
   "execution_count": 44,
   "metadata": {},
   "outputs": [
    {
     "name": "stdout",
     "output_type": "stream",
     "text": [
      "recent_data.shape: (1, 28, 5)\n",
      "recent_data: [[[0.45961866 0.46313717 0.44528753 0.44545924 0.28961448]\n",
      "  [0.44591211 0.44591211 0.41285072 0.41521196 0.35597144]\n",
      "  [0.41520945 0.42642672 0.4042673  0.41839509 0.28603533]\n",
      "  [0.41892728 0.43188374 0.41288385 0.42939296 0.24597331]\n",
      "  [0.42884872 0.43728452 0.41152073 0.42903398 0.30880439]\n",
      "  [0.42845158 0.43502871 0.41596306 0.41867073 0.281183  ]\n",
      "  [0.41837099 0.41857282 0.40185686 0.41156391 0.28346968]\n",
      "  [0.41162516 0.4154153  0.39576322 0.39778155 0.2458118 ]\n",
      "  [0.39765653 0.40680879 0.3917818  0.40564649 0.24168647]\n",
      "  [0.40588548 0.41172608 0.40225149 0.40545621 0.19756413]\n",
      "  [0.40544667 0.421283   0.40335052 0.41881482 0.2176438 ]\n",
      "  [0.4192707  0.42103749 0.41137764 0.4140823  0.21613068]\n",
      "  [0.41412648 0.41429618 0.39327596 0.39514367 0.21537642]\n",
      "  [0.39490769 0.39579033 0.36833808 0.37084542 0.272181  ]\n",
      "  [0.37101111 0.37992187 0.35946447 0.37232754 0.2536434 ]\n",
      "  [0.37257656 0.37593241 0.36255271 0.36694533 0.20408438]\n",
      "  [0.36726365 0.37272016 0.36036719 0.3607066  0.16984122]\n",
      "  [0.36101788 0.36200495 0.35644301 0.36132615 0.17005013]\n",
      "  [0.36148129 0.36387818 0.34790428 0.34966655 0.21133204]\n",
      "  [0.3493387  0.36926892 0.34739166 0.36656627 0.23742731]\n",
      "  [0.36642268 0.37164623 0.35858384 0.36324908 0.20637946]\n",
      "  [0.36323051 0.37341    0.36097018 0.36764974 0.21496196]\n",
      "  [0.36797759 0.37320064 0.36329025 0.37002353 0.20633415]\n",
      "  [0.36978605 0.37777451 0.36780488 0.37514466 0.20708253]\n",
      "  [0.37457431 0.38073974 0.37361786 0.37900057 0.20341025]\n",
      "  [0.37911504 0.38068602 0.36663907 0.36866894 0.20934237]\n",
      "  [0.36798763 0.37513361 0.36277111 0.37465815 0.20802389]\n",
      "  [0.37426704 0.37700132 0.36804336 0.37567334 0.19671927]]]\n"
     ]
    }
   ],
   "source": [
    "recent_data = np.array([x[len(x)-seq_length : ]])\n",
    "print(\"recent_data.shape:\", recent_data.shape)\n",
    "print(\"recent_data:\", recent_data)"
   ]
  },
  {
   "cell_type": "code",
   "execution_count": 45,
   "metadata": {},
   "outputs": [],
   "source": [
    "test_predict = sess.run(hypothesis, feed_dict={X: recent_data})"
   ]
  },
  {
   "cell_type": "code",
   "execution_count": 47,
   "metadata": {},
   "outputs": [],
   "source": [
    "def reverse_min_max_scaling(org_x, x):\n",
    "    org_x_np = np.asarray(org_x)\n",
    "    x_np = np.asarray(x)\n",
    "    return (x_np * (org_x_np.max() - org_x_np.min() + 1e-7)) + org_x_np.min()"
   ]
  },
  {
   "cell_type": "code",
   "execution_count": 49,
   "metadata": {},
   "outputs": [
    {
     "name": "stdout",
     "output_type": "stream",
     "text": [
      "test_predict [0.30095255]\n",
      "Tomorrow's stock price [6165.7295]\n"
     ]
    }
   ],
   "source": [
    "print(\"test_predict\", test_predict[0])\n",
    "test_predict = reverse_min_max_scaling(index,test_predict)\n",
    "print(\"Tomorrow's stock price\", test_predict[0])"
   ]
  },
  {
   "cell_type": "code",
   "execution_count": null,
   "metadata": {},
   "outputs": [],
   "source": []
  }
 ],
 "metadata": {
  "kernelspec": {
   "display_name": "Python 3",
   "language": "python",
   "name": "python3"
  },
  "language_info": {
   "codemirror_mode": {
    "name": "ipython",
    "version": 3
   },
   "file_extension": ".py",
   "mimetype": "text/x-python",
   "name": "python",
   "nbconvert_exporter": "python",
   "pygments_lexer": "ipython3",
   "version": "3.5.5"
  }
 },
 "nbformat": 4,
 "nbformat_minor": 2
}
