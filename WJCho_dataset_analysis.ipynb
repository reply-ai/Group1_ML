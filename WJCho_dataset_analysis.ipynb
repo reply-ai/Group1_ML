{
 "cells": [
  {
   "cell_type": "markdown",
   "metadata": {},
   "source": [
    "응답하라 AI 시즌3 - 2주차(2018-07-18)\n",
    "\n",
    "학습목표\n",
    "1. 데이터를 이해한다.\n",
    "2. 탐색적 데이터 분석(EDA)을 이해하고 적용한다.\n",
    "\n",
    "참고자료\n",
    "1. https://youtu.be/Q_MbN-vu_2w (자전거 수요 예측[1/4] 캐글 머신러닝 탐색적 데이터 분석)\n",
    "2. https://statkclee.github.io/ml/ml-eda.html (탐색적 데이터 분석(EDA))\n",
    "3. https://github.com/reply-ai/Group1_ML/blob/master/JKim_dataset_analysis.ipynb (정원님의 데이터 분석)"
   ]
  },
  {
   "cell_type": "code",
   "execution_count": 1,
   "metadata": {},
   "outputs": [],
   "source": [
    "import pandas as pd\n",
    "import numpy as np\n",
    "import matplotlib as mpl\n",
    "import matplotlib.pyplot as plt\n",
    "import seaborn as sns\n",
    "from scipy import stats"
   ]
  },
  {
   "cell_type": "code",
   "execution_count": 2,
   "metadata": {},
   "outputs": [],
   "source": [
    "%matplotlib inline"
   ]
  },
  {
   "cell_type": "code",
   "execution_count": 3,
   "metadata": {},
   "outputs": [],
   "source": [
    "plt.style.use('ggplot')"
   ]
  },
  {
   "cell_type": "code",
   "execution_count": 4,
   "metadata": {},
   "outputs": [],
   "source": [
    "mpl.rcParams['axes.unicode_minus'] = False"
   ]
  },
  {
   "cell_type": "code",
   "execution_count": 5,
   "metadata": {},
   "outputs": [
    {
     "data": {
      "text/plain": [
       "(785024, 13)"
      ]
     },
     "execution_count": 5,
     "metadata": {},
     "output_type": "execute_result"
    }
   ],
   "source": [
    "train = pd.read_csv(\"data/crypto-markets.csv\", parse_dates=[\"date\"])\n",
    "train.shape"
   ]
  },
  {
   "cell_type": "code",
   "execution_count": 6,
   "metadata": {},
   "outputs": [
    {
     "name": "stdout",
     "output_type": "stream",
     "text": [
      "<class 'pandas.core.frame.DataFrame'>\n",
      "RangeIndex: 785024 entries, 0 to 785023\n",
      "Data columns (total 13 columns):\n",
      "slug           785024 non-null object\n",
      "symbol         785024 non-null object\n",
      "name           785024 non-null object\n",
      "date           785024 non-null datetime64[ns]\n",
      "ranknow        785024 non-null int64\n",
      "open           785024 non-null float64\n",
      "high           785024 non-null float64\n",
      "low            785024 non-null float64\n",
      "close          785024 non-null float64\n",
      "volume         785024 non-null float64\n",
      "market         785024 non-null float64\n",
      "close_ratio    785024 non-null float64\n",
      "spread         785024 non-null float64\n",
      "dtypes: datetime64[ns](1), float64(8), int64(1), object(3)\n",
      "memory usage: 77.9+ MB\n"
     ]
    }
   ],
   "source": [
    "# train.columns\n",
    "# train.dtypes\n",
    "train.info()"
   ]
  },
  {
   "cell_type": "code",
   "execution_count": 7,
   "metadata": {},
   "outputs": [
    {
     "data": {
      "text/html": [
       "<div>\n",
       "<style scoped>\n",
       "    .dataframe tbody tr th:only-of-type {\n",
       "        vertical-align: middle;\n",
       "    }\n",
       "\n",
       "    .dataframe tbody tr th {\n",
       "        vertical-align: top;\n",
       "    }\n",
       "\n",
       "    .dataframe thead th {\n",
       "        text-align: right;\n",
       "    }\n",
       "</style>\n",
       "<table border=\"1\" class=\"dataframe\">\n",
       "  <thead>\n",
       "    <tr style=\"text-align: right;\">\n",
       "      <th></th>\n",
       "      <th>slug</th>\n",
       "      <th>symbol</th>\n",
       "      <th>name</th>\n",
       "      <th>date</th>\n",
       "      <th>ranknow</th>\n",
       "      <th>open</th>\n",
       "      <th>high</th>\n",
       "      <th>low</th>\n",
       "      <th>close</th>\n",
       "      <th>volume</th>\n",
       "      <th>market</th>\n",
       "      <th>close_ratio</th>\n",
       "      <th>spread</th>\n",
       "    </tr>\n",
       "  </thead>\n",
       "  <tbody>\n",
       "    <tr>\n",
       "      <th>0</th>\n",
       "      <td>bitcoin</td>\n",
       "      <td>BTC</td>\n",
       "      <td>Bitcoin</td>\n",
       "      <td>2013-04-28</td>\n",
       "      <td>1</td>\n",
       "      <td>135.30</td>\n",
       "      <td>135.98</td>\n",
       "      <td>132.10</td>\n",
       "      <td>134.21</td>\n",
       "      <td>0.0</td>\n",
       "      <td>1.500520e+09</td>\n",
       "      <td>0.5438</td>\n",
       "      <td>3.88</td>\n",
       "    </tr>\n",
       "    <tr>\n",
       "      <th>1</th>\n",
       "      <td>bitcoin</td>\n",
       "      <td>BTC</td>\n",
       "      <td>Bitcoin</td>\n",
       "      <td>2013-04-29</td>\n",
       "      <td>1</td>\n",
       "      <td>134.44</td>\n",
       "      <td>147.49</td>\n",
       "      <td>134.00</td>\n",
       "      <td>144.54</td>\n",
       "      <td>0.0</td>\n",
       "      <td>1.491160e+09</td>\n",
       "      <td>0.7813</td>\n",
       "      <td>13.49</td>\n",
       "    </tr>\n",
       "    <tr>\n",
       "      <th>2</th>\n",
       "      <td>bitcoin</td>\n",
       "      <td>BTC</td>\n",
       "      <td>Bitcoin</td>\n",
       "      <td>2013-04-30</td>\n",
       "      <td>1</td>\n",
       "      <td>144.00</td>\n",
       "      <td>146.93</td>\n",
       "      <td>134.05</td>\n",
       "      <td>139.00</td>\n",
       "      <td>0.0</td>\n",
       "      <td>1.597780e+09</td>\n",
       "      <td>0.3843</td>\n",
       "      <td>12.88</td>\n",
       "    </tr>\n",
       "    <tr>\n",
       "      <th>3</th>\n",
       "      <td>bitcoin</td>\n",
       "      <td>BTC</td>\n",
       "      <td>Bitcoin</td>\n",
       "      <td>2013-05-01</td>\n",
       "      <td>1</td>\n",
       "      <td>139.00</td>\n",
       "      <td>139.89</td>\n",
       "      <td>107.72</td>\n",
       "      <td>116.99</td>\n",
       "      <td>0.0</td>\n",
       "      <td>1.542820e+09</td>\n",
       "      <td>0.2882</td>\n",
       "      <td>32.17</td>\n",
       "    </tr>\n",
       "    <tr>\n",
       "      <th>4</th>\n",
       "      <td>bitcoin</td>\n",
       "      <td>BTC</td>\n",
       "      <td>Bitcoin</td>\n",
       "      <td>2013-05-02</td>\n",
       "      <td>1</td>\n",
       "      <td>116.38</td>\n",
       "      <td>125.60</td>\n",
       "      <td>92.28</td>\n",
       "      <td>105.21</td>\n",
       "      <td>0.0</td>\n",
       "      <td>1.292190e+09</td>\n",
       "      <td>0.3881</td>\n",
       "      <td>33.32</td>\n",
       "    </tr>\n",
       "  </tbody>\n",
       "</table>\n",
       "</div>"
      ],
      "text/plain": [
       "      slug symbol     name       date  ranknow    open    high     low  \\\n",
       "0  bitcoin    BTC  Bitcoin 2013-04-28        1  135.30  135.98  132.10   \n",
       "1  bitcoin    BTC  Bitcoin 2013-04-29        1  134.44  147.49  134.00   \n",
       "2  bitcoin    BTC  Bitcoin 2013-04-30        1  144.00  146.93  134.05   \n",
       "3  bitcoin    BTC  Bitcoin 2013-05-01        1  139.00  139.89  107.72   \n",
       "4  bitcoin    BTC  Bitcoin 2013-05-02        1  116.38  125.60   92.28   \n",
       "\n",
       "    close  volume        market  close_ratio  spread  \n",
       "0  134.21     0.0  1.500520e+09       0.5438    3.88  \n",
       "1  144.54     0.0  1.491160e+09       0.7813   13.49  \n",
       "2  139.00     0.0  1.597780e+09       0.3843   12.88  \n",
       "3  116.99     0.0  1.542820e+09       0.2882   32.17  \n",
       "4  105.21     0.0  1.292190e+09       0.3881   33.32  "
      ]
     },
     "execution_count": 7,
     "metadata": {},
     "output_type": "execute_result"
    }
   ],
   "source": [
    "train.head()"
   ]
  },
  {
   "cell_type": "code",
   "execution_count": 8,
   "metadata": {},
   "outputs": [
    {
     "name": "stdout",
     "output_type": "stream",
     "text": [
      "Latest crypto data\n"
     ]
    },
    {
     "data": {
      "text/html": [
       "<div>\n",
       "<style scoped>\n",
       "    .dataframe tbody tr th:only-of-type {\n",
       "        vertical-align: middle;\n",
       "    }\n",
       "\n",
       "    .dataframe tbody tr th {\n",
       "        vertical-align: top;\n",
       "    }\n",
       "\n",
       "    .dataframe thead th {\n",
       "        text-align: right;\n",
       "    }\n",
       "</style>\n",
       "<table border=\"1\" class=\"dataframe\">\n",
       "  <thead>\n",
       "    <tr style=\"text-align: right;\">\n",
       "      <th></th>\n",
       "      <th>slug</th>\n",
       "      <th>symbol</th>\n",
       "      <th>name</th>\n",
       "      <th>date</th>\n",
       "      <th>ranknow</th>\n",
       "      <th>open</th>\n",
       "      <th>high</th>\n",
       "      <th>low</th>\n",
       "      <th>close</th>\n",
       "      <th>volume</th>\n",
       "      <th>market</th>\n",
       "      <th>close_ratio</th>\n",
       "      <th>spread</th>\n",
       "    </tr>\n",
       "  </thead>\n",
       "  <tbody>\n",
       "    <tr>\n",
       "      <th>1865</th>\n",
       "      <td>bitcoin</td>\n",
       "      <td>BTC</td>\n",
       "      <td>Bitcoin</td>\n",
       "      <td>2018-06-06</td>\n",
       "      <td>1</td>\n",
       "      <td>7625.970000</td>\n",
       "      <td>7680.430000</td>\n",
       "      <td>7502.010000</td>\n",
       "      <td>7653.980000</td>\n",
       "      <td>4.692260e+09</td>\n",
       "      <td>1.302330e+11</td>\n",
       "      <td>0.8518</td>\n",
       "      <td>178.42</td>\n",
       "    </tr>\n",
       "    <tr>\n",
       "      <th>2900</th>\n",
       "      <td>ethereum</td>\n",
       "      <td>ETH</td>\n",
       "      <td>Ethereum</td>\n",
       "      <td>2018-06-06</td>\n",
       "      <td>2</td>\n",
       "      <td>610.260000</td>\n",
       "      <td>611.640000</td>\n",
       "      <td>596.400000</td>\n",
       "      <td>607.120000</td>\n",
       "      <td>1.756530e+09</td>\n",
       "      <td>6.096070e+10</td>\n",
       "      <td>0.7034</td>\n",
       "      <td>15.24</td>\n",
       "    </tr>\n",
       "    <tr>\n",
       "      <th>4668</th>\n",
       "      <td>ripple</td>\n",
       "      <td>XRP</td>\n",
       "      <td>Ripple</td>\n",
       "      <td>2018-06-06</td>\n",
       "      <td>3</td>\n",
       "      <td>0.677901</td>\n",
       "      <td>0.681668</td>\n",
       "      <td>0.660059</td>\n",
       "      <td>0.674797</td>\n",
       "      <td>2.739660e+08</td>\n",
       "      <td>2.660190e+10</td>\n",
       "      <td>0.6820</td>\n",
       "      <td>0.02</td>\n",
       "    </tr>\n",
       "    <tr>\n",
       "      <th>4987</th>\n",
       "      <td>bitcoin-cash</td>\n",
       "      <td>BCH</td>\n",
       "      <td>Bitcoin Cash</td>\n",
       "      <td>2018-06-06</td>\n",
       "      <td>4</td>\n",
       "      <td>1157.330000</td>\n",
       "      <td>1157.330000</td>\n",
       "      <td>1107.210000</td>\n",
       "      <td>1131.170000</td>\n",
       "      <td>6.085030e+08</td>\n",
       "      <td>1.986880e+10</td>\n",
       "      <td>0.4781</td>\n",
       "      <td>50.12</td>\n",
       "    </tr>\n",
       "    <tr>\n",
       "      <th>5328</th>\n",
       "      <td>eos</td>\n",
       "      <td>EOS</td>\n",
       "      <td>EOS</td>\n",
       "      <td>2018-06-06</td>\n",
       "      <td>5</td>\n",
       "      <td>14.250000</td>\n",
       "      <td>14.260000</td>\n",
       "      <td>13.480000</td>\n",
       "      <td>13.940000</td>\n",
       "      <td>1.022290e+09</td>\n",
       "      <td>1.277380e+10</td>\n",
       "      <td>0.5897</td>\n",
       "      <td>0.78</td>\n",
       "    </tr>\n",
       "  </tbody>\n",
       "</table>\n",
       "</div>"
      ],
      "text/plain": [
       "              slug symbol          name       date  ranknow         open  \\\n",
       "1865       bitcoin    BTC       Bitcoin 2018-06-06        1  7625.970000   \n",
       "2900      ethereum    ETH      Ethereum 2018-06-06        2   610.260000   \n",
       "4668        ripple    XRP        Ripple 2018-06-06        3     0.677901   \n",
       "4987  bitcoin-cash    BCH  Bitcoin Cash 2018-06-06        4  1157.330000   \n",
       "5328           eos    EOS           EOS 2018-06-06        5    14.250000   \n",
       "\n",
       "             high          low        close        volume        market  \\\n",
       "1865  7680.430000  7502.010000  7653.980000  4.692260e+09  1.302330e+11   \n",
       "2900   611.640000   596.400000   607.120000  1.756530e+09  6.096070e+10   \n",
       "4668     0.681668     0.660059     0.674797  2.739660e+08  2.660190e+10   \n",
       "4987  1157.330000  1107.210000  1131.170000  6.085030e+08  1.986880e+10   \n",
       "5328    14.260000    13.480000    13.940000  1.022290e+09  1.277380e+10   \n",
       "\n",
       "      close_ratio  spread  \n",
       "1865       0.8518  178.42  \n",
       "2900       0.7034   15.24  \n",
       "4668       0.6820    0.02  \n",
       "4987       0.4781   50.12  \n",
       "5328       0.5897    0.78  "
      ]
     },
     "execution_count": 8,
     "metadata": {},
     "output_type": "execute_result"
    }
   ],
   "source": [
    "print(\"Latest crypto data\")\n",
    "latest_train = train[train['date'] == max(train['date'])]\n",
    "latest_train.head()"
   ]
  },
  {
   "cell_type": "code",
   "execution_count": 9,
   "metadata": {},
   "outputs": [
    {
     "data": {
      "text/plain": [
       "<matplotlib.axes._subplots.AxesSubplot at 0x1c9c77ff1d0>"
      ]
     },
     "execution_count": 9,
     "metadata": {},
     "output_type": "execute_result"
    },
    {
     "data": {
      "image/png": "[encoded data removed]",
      "text/plain": [
       "<Figure size 864x360 with 2 Axes>"
      ]
     },
     "metadata": {},
     "output_type": "display_data"
    }
   ],
   "source": [
    "import missingno as msno\n",
    "\n",
    "msno.matrix(train, figsize=(12, 5))"
   ]
  },
  {
   "cell_type": "code",
   "execution_count": 10,
   "metadata": {},
   "outputs": [
    {
     "data": {
      "text/plain": [
       "count    7.850240e+05\n",
       "mean             -inf\n",
       "std               NaN\n",
       "min              -inf\n",
       "25%      1.552000e-01\n",
       "50%      4.342000e-01\n",
       "75%      7.586000e-01\n",
       "max      1.000000e+00\n",
       "Name: close_ratio, dtype: float64"
      ]
     },
     "execution_count": 10,
     "metadata": {},
     "output_type": "execute_result"
    }
   ],
   "source": [
    "train.close_ratio.describe()"
   ]
  },
  {
   "cell_type": "code",
   "execution_count": 11,
   "metadata": {},
   "outputs": [],
   "source": [
    "train[\"year\"] = train[\"date\"].dt.year\n",
    "train[\"month\"] = train[\"date\"].dt.month\n",
    "train[\"day\"] = train[\"date\"].dt.day"
   ]
  },
  {
   "cell_type": "code",
   "execution_count": 12,
   "metadata": {},
   "outputs": [
    {
     "data": {
      "text/plain": [
       "(785024, 16)"
      ]
     },
     "execution_count": 12,
     "metadata": {},
     "output_type": "execute_result"
    }
   ],
   "source": [
    "train.shape"
   ]
  },
  {
   "cell_type": "code",
   "execution_count": 13,
   "metadata": {},
   "outputs": [
    {
     "data": {
      "text/html": [
       "<div>\n",
       "<style scoped>\n",
       "    .dataframe tbody tr th:only-of-type {\n",
       "        vertical-align: middle;\n",
       "    }\n",
       "\n",
       "    .dataframe tbody tr th {\n",
       "        vertical-align: top;\n",
       "    }\n",
       "\n",
       "    .dataframe thead th {\n",
       "        text-align: right;\n",
       "    }\n",
       "</style>\n",
       "<table border=\"1\" class=\"dataframe\">\n",
       "  <thead>\n",
       "    <tr style=\"text-align: right;\">\n",
       "      <th></th>\n",
       "      <th>slug</th>\n",
       "      <th>symbol</th>\n",
       "      <th>name</th>\n",
       "      <th>date</th>\n",
       "      <th>ranknow</th>\n",
       "      <th>open</th>\n",
       "      <th>high</th>\n",
       "      <th>low</th>\n",
       "      <th>close</th>\n",
       "      <th>volume</th>\n",
       "      <th>market</th>\n",
       "      <th>close_ratio</th>\n",
       "      <th>spread</th>\n",
       "      <th>year</th>\n",
       "      <th>month</th>\n",
       "      <th>day</th>\n",
       "    </tr>\n",
       "  </thead>\n",
       "  <tbody>\n",
       "    <tr>\n",
       "      <th>0</th>\n",
       "      <td>bitcoin</td>\n",
       "      <td>BTC</td>\n",
       "      <td>Bitcoin</td>\n",
       "      <td>2013-04-28</td>\n",
       "      <td>1</td>\n",
       "      <td>135.30</td>\n",
       "      <td>135.98</td>\n",
       "      <td>132.10</td>\n",
       "      <td>134.21</td>\n",
       "      <td>0.0</td>\n",
       "      <td>1.500520e+09</td>\n",
       "      <td>0.5438</td>\n",
       "      <td>3.88</td>\n",
       "      <td>2013</td>\n",
       "      <td>4</td>\n",
       "      <td>28</td>\n",
       "    </tr>\n",
       "    <tr>\n",
       "      <th>1</th>\n",
       "      <td>bitcoin</td>\n",
       "      <td>BTC</td>\n",
       "      <td>Bitcoin</td>\n",
       "      <td>2013-04-29</td>\n",
       "      <td>1</td>\n",
       "      <td>134.44</td>\n",
       "      <td>147.49</td>\n",
       "      <td>134.00</td>\n",
       "      <td>144.54</td>\n",
       "      <td>0.0</td>\n",
       "      <td>1.491160e+09</td>\n",
       "      <td>0.7813</td>\n",
       "      <td>13.49</td>\n",
       "      <td>2013</td>\n",
       "      <td>4</td>\n",
       "      <td>29</td>\n",
       "    </tr>\n",
       "    <tr>\n",
       "      <th>2</th>\n",
       "      <td>bitcoin</td>\n",
       "      <td>BTC</td>\n",
       "      <td>Bitcoin</td>\n",
       "      <td>2013-04-30</td>\n",
       "      <td>1</td>\n",
       "      <td>144.00</td>\n",
       "      <td>146.93</td>\n",
       "      <td>134.05</td>\n",
       "      <td>139.00</td>\n",
       "      <td>0.0</td>\n",
       "      <td>1.597780e+09</td>\n",
       "      <td>0.3843</td>\n",
       "      <td>12.88</td>\n",
       "      <td>2013</td>\n",
       "      <td>4</td>\n",
       "      <td>30</td>\n",
       "    </tr>\n",
       "    <tr>\n",
       "      <th>3</th>\n",
       "      <td>bitcoin</td>\n",
       "      <td>BTC</td>\n",
       "      <td>Bitcoin</td>\n",
       "      <td>2013-05-01</td>\n",
       "      <td>1</td>\n",
       "      <td>139.00</td>\n",
       "      <td>139.89</td>\n",
       "      <td>107.72</td>\n",
       "      <td>116.99</td>\n",
       "      <td>0.0</td>\n",
       "      <td>1.542820e+09</td>\n",
       "      <td>0.2882</td>\n",
       "      <td>32.17</td>\n",
       "      <td>2013</td>\n",
       "      <td>5</td>\n",
       "      <td>1</td>\n",
       "    </tr>\n",
       "    <tr>\n",
       "      <th>4</th>\n",
       "      <td>bitcoin</td>\n",
       "      <td>BTC</td>\n",
       "      <td>Bitcoin</td>\n",
       "      <td>2013-05-02</td>\n",
       "      <td>1</td>\n",
       "      <td>116.38</td>\n",
       "      <td>125.60</td>\n",
       "      <td>92.28</td>\n",
       "      <td>105.21</td>\n",
       "      <td>0.0</td>\n",
       "      <td>1.292190e+09</td>\n",
       "      <td>0.3881</td>\n",
       "      <td>33.32</td>\n",
       "      <td>2013</td>\n",
       "      <td>5</td>\n",
       "      <td>2</td>\n",
       "    </tr>\n",
       "  </tbody>\n",
       "</table>\n",
       "</div>"
      ],
      "text/plain": [
       "      slug symbol     name       date  ranknow    open    high     low  \\\n",
       "0  bitcoin    BTC  Bitcoin 2013-04-28        1  135.30  135.98  132.10   \n",
       "1  bitcoin    BTC  Bitcoin 2013-04-29        1  134.44  147.49  134.00   \n",
       "2  bitcoin    BTC  Bitcoin 2013-04-30        1  144.00  146.93  134.05   \n",
       "3  bitcoin    BTC  Bitcoin 2013-05-01        1  139.00  139.89  107.72   \n",
       "4  bitcoin    BTC  Bitcoin 2013-05-02        1  116.38  125.60   92.28   \n",
       "\n",
       "    close  volume        market  close_ratio  spread  year  month  day  \n",
       "0  134.21     0.0  1.500520e+09       0.5438    3.88  2013      4   28  \n",
       "1  144.54     0.0  1.491160e+09       0.7813   13.49  2013      4   29  \n",
       "2  139.00     0.0  1.597780e+09       0.3843   12.88  2013      4   30  \n",
       "3  116.99     0.0  1.542820e+09       0.2882   32.17  2013      5    1  \n",
       "4  105.21     0.0  1.292190e+09       0.3881   33.32  2013      5    2  "
      ]
     },
     "execution_count": 13,
     "metadata": {},
     "output_type": "execute_result"
    }
   ],
   "source": [
    "train.head()"
   ]
  },
  {
   "cell_type": "code",
   "execution_count": 14,
   "metadata": {},
   "outputs": [
    {
     "name": "stdout",
     "output_type": "stream",
     "text": [
      "                 open      high       low     close    volume    market  \\\n",
      "open         1.000000  0.967526  0.971012  0.956207  0.010411  0.011398   \n",
      "high         0.967526  1.000000  0.947080  0.971402  0.008690  0.009458   \n",
      "low          0.971012  0.947080  1.000000  0.971565  0.012038  0.013291   \n",
      "close        0.956207  0.971402  0.971565  1.000000  0.010470  0.011448   \n",
      "volume       0.010411  0.008690  0.012038  0.010470  1.000000  0.896761   \n",
      "market       0.011398  0.009458  0.013291  0.011448  0.896761  1.000000   \n",
      "close_ratio -0.000680  0.000100  0.000750  0.003606  0.009434  0.008828   \n",
      "spread       0.750289  0.864099  0.656807  0.758528  0.001537  0.001378   \n",
      "\n",
      "             close_ratio    spread  \n",
      "open           -0.000680  0.750289  \n",
      "high            0.000100  0.864099  \n",
      "low             0.000750  0.656807  \n",
      "close           0.003606  0.758528  \n",
      "volume          0.009434  0.001537  \n",
      "market          0.008828  0.001378  \n",
      "close_ratio     1.000000 -0.000940  \n",
      "spread         -0.000940  1.000000  \n"
     ]
    }
   ],
   "source": [
    "corrMatt = train[[\"open\", \"high\", \"low\", \"close\", \"volume\", \"market\", \"close_ratio\", \"spread\"]]\n",
    "corrMatt = corrMatt.corr()\n",
    "print(corrMatt)"
   ]
  },
  {
   "cell_type": "code",
   "execution_count": 15,
   "metadata": {},
   "outputs": [],
   "source": [
    "mask = np.array(corrMatt)\n",
    "mask[np.tril_indices_from(mask)] = False"
   ]
  },
  {
   "cell_type": "code",
   "execution_count": 16,
   "metadata": {},
   "outputs": [
    {
     "data": {
      "text/plain": [
       "<matplotlib.axes._subplots.AxesSubplot at 0x1c9d1e59e80>"
      ]
     },
     "execution_count": 16,
     "metadata": {},
     "output_type": "execute_result"
    },
    {
     "data": {
      "image/png": "[encoded data removed]",
      "text/plain": [
       "<Figure size 1440x720 with 2 Axes>"
      ]
     },
     "metadata": {},
     "output_type": "display_data"
    }
   ],
   "source": [
    "fig, ax = plt.subplots()\n",
    "fig.set_size_inches(20, 10)\n",
    "sns.heatmap(corrMatt, mask=mask, vmax=.8, square=True, annot=True)"
   ]
  },
  {
   "cell_type": "code",
   "execution_count": 17,
   "metadata": {},
   "outputs": [],
   "source": [
    "def concatenate_year_month(datetime):\n",
    "    return \"{0}-{1}\".format(datetime.year, datetime.month)"
   ]
  },
  {
   "cell_type": "code",
   "execution_count": 18,
   "metadata": {},
   "outputs": [
    {
     "name": "stdout",
     "output_type": "stream",
     "text": [
      "(785024, 17)\n"
     ]
    },
    {
     "data": {
      "text/html": [
       "<div>\n",
       "<style scoped>\n",
       "    .dataframe tbody tr th:only-of-type {\n",
       "        vertical-align: middle;\n",
       "    }\n",
       "\n",
       "    .dataframe tbody tr th {\n",
       "        vertical-align: top;\n",
       "    }\n",
       "\n",
       "    .dataframe thead th {\n",
       "        text-align: right;\n",
       "    }\n",
       "</style>\n",
       "<table border=\"1\" class=\"dataframe\">\n",
       "  <thead>\n",
       "    <tr style=\"text-align: right;\">\n",
       "      <th></th>\n",
       "      <th>date</th>\n",
       "      <th>year_month</th>\n",
       "    </tr>\n",
       "  </thead>\n",
       "  <tbody>\n",
       "    <tr>\n",
       "      <th>0</th>\n",
       "      <td>2013-04-28</td>\n",
       "      <td>2013-4</td>\n",
       "    </tr>\n",
       "    <tr>\n",
       "      <th>1</th>\n",
       "      <td>2013-04-29</td>\n",
       "      <td>2013-4</td>\n",
       "    </tr>\n",
       "    <tr>\n",
       "      <th>2</th>\n",
       "      <td>2013-04-30</td>\n",
       "      <td>2013-4</td>\n",
       "    </tr>\n",
       "    <tr>\n",
       "      <th>3</th>\n",
       "      <td>2013-05-01</td>\n",
       "      <td>2013-5</td>\n",
       "    </tr>\n",
       "    <tr>\n",
       "      <th>4</th>\n",
       "      <td>2013-05-02</td>\n",
       "      <td>2013-5</td>\n",
       "    </tr>\n",
       "  </tbody>\n",
       "</table>\n",
       "</div>"
      ],
      "text/plain": [
       "        date year_month\n",
       "0 2013-04-28     2013-4\n",
       "1 2013-04-29     2013-4\n",
       "2 2013-04-30     2013-4\n",
       "3 2013-05-01     2013-5\n",
       "4 2013-05-02     2013-5"
      ]
     },
     "execution_count": 18,
     "metadata": {},
     "output_type": "execute_result"
    }
   ],
   "source": [
    "train[\"year_month\"] = train[\"date\"].apply(concatenate_year_month)\n",
    "\n",
    "print(train.shape)\n",
    "train[[\"date\", \"year_month\"]].head()"
   ]
  },
  {
   "cell_type": "code",
   "execution_count": 19,
   "metadata": {},
   "outputs": [
    {
     "data": {
      "text/plain": [
       "<matplotlib.axes._subplots.AxesSubplot at 0x1c9ca9c3710>"
      ]
     },
     "execution_count": 19,
     "metadata": {},
     "output_type": "execute_result"
    },
    {
     "data": {
      "image/png": "[encoded data removed]",
      "text/plain": [
       "<Figure size 1296x288 with 2 Axes>"
      ]
     },
     "metadata": {},
     "output_type": "display_data"
    },
    {
     "data": {
      "image/png": "[encoded data removed]",
      "text/plain": [
       "<Figure size 1296x288 with 1 Axes>"
      ]
     },
     "metadata": {},
     "output_type": "display_data"
    }
   ],
   "source": [
    "fig, (ax1, ax2) = plt.subplots(nrows=1, ncols=2)\n",
    "fig.set_size_inches(18,4)\n",
    "\n",
    "sns.barplot(data=train, x=\"year\", y=\"volume\", ax=ax1)\n",
    "sns.barplot(data=train, x=\"month\", y=\"volume\", ax=ax2)\n",
    "\n",
    "fig, ax3 = plt.subplots(nrows=1, ncols=1)\n",
    "fig.set_size_inches(18,4)\n",
    "\n",
    "sns.barplot(data=train, x=\"year_month\", y=\"volume\", ax=ax3)"
   ]
  },
  {
   "cell_type": "markdown",
   "metadata": {},
   "source": [
    "https://www.kaggle.com/hassanaftab/time-series-analysis-closing-market\n",
    "\n",
    "Importance of date in Time Series\n",
    "\n",
    "The data contains a particular date and prices on that date. But this is still not read as a TimeSeries object as the data types are ‘object’ and ‘int’. In order to read the data as a time series, we have to pass special arguments to the read_csv command:"
   ]
  },
  {
   "cell_type": "code",
   "execution_count": 22,
   "metadata": {},
   "outputs": [],
   "source": [
    "dateparse = lambda dates: pd.datetime.strptime(dates, '%Y-%m-%d')"
   ]
  },
  {
   "cell_type": "code",
   "execution_count": 23,
   "metadata": {},
   "outputs": [
    {
     "data": {
      "text/plain": [
       "slug            object\n",
       "symbol          object\n",
       "name            object\n",
       "ranknow          int64\n",
       "open           float64\n",
       "high           float64\n",
       "low            float64\n",
       "close          float64\n",
       "volume         float64\n",
       "market         float64\n",
       "close_ratio    float64\n",
       "spread         float64\n",
       "dtype: object"
      ]
     },
     "execution_count": 23,
     "metadata": {},
     "output_type": "execute_result"
    }
   ],
   "source": [
    "cm = pd.read_csv(\"data/crypto-markets.csv\", parse_dates=[\"date\"], index_col='date', date_parser=dateparse)\n",
    "cm.dtypes"
   ]
  },
  {
   "cell_type": "markdown",
   "metadata": {},
   "source": [
    "We can also explicitly convert to datetime using dataframe[columnName] = dataframe.to_datetime[columnName]\n",
    "\n",
    "you can read more about it on following link\n",
    "\n",
    "https://www.analyticsvidhya.com/blog/2016/02/time-series-forecasting-codes-python/\n",
    "\n",
    "https://stackoverflow.com/questions/29370057/select-dataframe-rows-between-two-dates"
   ]
  },
  {
   "cell_type": "code",
   "execution_count": 24,
   "metadata": {},
   "outputs": [],
   "source": [
    "dm = pd.read_csv('data/crypto-markets.csv')  \n",
    "dm['date'] = pd.to_datetime(dm['date'])"
   ]
  },
  {
   "cell_type": "code",
   "execution_count": 34,
   "metadata": {},
   "outputs": [],
   "source": [
    "cmopen=cm.iloc[:1000,4]\n",
    "cmhigh=cm.iloc[:1000,5]\n",
    "cmlow=cm.iloc[:1000,6]\n",
    "cmclose=cm.iloc[:1000,7]"
   ]
  },
  {
   "cell_type": "code",
   "execution_count": 35,
   "metadata": {},
   "outputs": [
    {
     "data": {
      "image/png": "[encoded data removed]",
      "text/plain": [
       "<Figure size 432x288 with 1 Axes>"
      ]
     },
     "metadata": {},
     "output_type": "display_data"
    }
   ],
   "source": [
    "plt.plot(cmopen, color='blue', label='open')\n",
    "plt.plot(cmhigh, color='green', label='high')\n",
    "plt.plot(cmlow, color='magenta', label='low')\n",
    "plt.plot(cmclose, color='red', label='close')\n",
    "\n",
    "plt.legend(loc='upper left')\n",
    "\n",
    "plt.xticks(rotation=60)\n",
    "\n",
    "plt.show()"
   ]
  },
  {
   "cell_type": "code",
   "execution_count": 37,
   "metadata": {},
   "outputs": [
    {
     "data": {
      "text/plain": [
       "[<matplotlib.lines.Line2D at 0x1c9840af0b8>]"
      ]
     },
     "execution_count": 37,
     "metadata": {},
     "output_type": "execute_result"
    },
    {
     "data": {
      "image/png": "[encoded data removed]",
      "text/plain": [
       "<Figure size 432x288 with 1 Axes>"
      ]
     },
     "metadata": {},
     "output_type": "display_data"
    }
   ],
   "source": [
    "view = cmopen['2013-07-01':'2016-02-01']\n",
    "plt.subplot(2,1,1)\n",
    "plt.xticks(rotation=45)\n",
    "plt.title('Open 2013-07-01 to 2016-02-01')\n",
    "plt.plot(view,color ='blue')"
   ]
  },
  {
   "cell_type": "code",
   "execution_count": 44,
   "metadata": {},
   "outputs": [],
   "source": [
    "cm_open_ma=pd.Series(cmopen).rolling(window=20, center=False).mean()"
   ]
  },
  {
   "cell_type": "code",
   "execution_count": 45,
   "metadata": {},
   "outputs": [
    {
     "data": {
      "text/plain": [
       "[<matplotlib.lines.Line2D at 0x1c984134668>]"
      ]
     },
     "execution_count": 45,
     "metadata": {},
     "output_type": "execute_result"
    },
    {
     "data": {
      "image/png": "[encoded data removed]",
      "text/plain": [
       "<Figure size 432x288 with 1 Axes>"
      ]
     },
     "metadata": {},
     "output_type": "display_data"
    }
   ],
   "source": [
    "plt.subplot(2,1,1)\n",
    "plt.xticks(rotation=45)\n",
    "plt.title('Moving Average Open')\n",
    "plt.plot(cm_open_ma,color ='blue')"
   ]
  },
  {
   "cell_type": "code",
   "execution_count": 47,
   "metadata": {},
   "outputs": [
    {
     "name": "stdout",
     "output_type": "stream",
     "text": [
      "Latest crypto data\n"
     ]
    },
    {
     "data": {
      "text/html": [
       "<div>\n",
       "<style scoped>\n",
       "    .dataframe tbody tr th:only-of-type {\n",
       "        vertical-align: middle;\n",
       "    }\n",
       "\n",
       "    .dataframe tbody tr th {\n",
       "        vertical-align: top;\n",
       "    }\n",
       "\n",
       "    .dataframe thead th {\n",
       "        text-align: right;\n",
       "    }\n",
       "</style>\n",
       "<table border=\"1\" class=\"dataframe\">\n",
       "  <thead>\n",
       "    <tr style=\"text-align: right;\">\n",
       "      <th></th>\n",
       "      <th>slug</th>\n",
       "      <th>symbol</th>\n",
       "      <th>name</th>\n",
       "      <th>date</th>\n",
       "      <th>ranknow</th>\n",
       "      <th>open</th>\n",
       "      <th>high</th>\n",
       "      <th>low</th>\n",
       "      <th>close</th>\n",
       "      <th>volume</th>\n",
       "      <th>market</th>\n",
       "      <th>close_ratio</th>\n",
       "      <th>spread</th>\n",
       "    </tr>\n",
       "  </thead>\n",
       "  <tbody>\n",
       "    <tr>\n",
       "      <th>1865</th>\n",
       "      <td>bitcoin</td>\n",
       "      <td>BTC</td>\n",
       "      <td>Bitcoin</td>\n",
       "      <td>2018-06-06</td>\n",
       "      <td>1</td>\n",
       "      <td>7625.970000</td>\n",
       "      <td>7680.430000</td>\n",
       "      <td>7502.010000</td>\n",
       "      <td>7653.980000</td>\n",
       "      <td>4.692260e+09</td>\n",
       "      <td>1.302330e+11</td>\n",
       "      <td>0.8518</td>\n",
       "      <td>178.42</td>\n",
       "    </tr>\n",
       "    <tr>\n",
       "      <th>2900</th>\n",
       "      <td>ethereum</td>\n",
       "      <td>ETH</td>\n",
       "      <td>Ethereum</td>\n",
       "      <td>2018-06-06</td>\n",
       "      <td>2</td>\n",
       "      <td>610.260000</td>\n",
       "      <td>611.640000</td>\n",
       "      <td>596.400000</td>\n",
       "      <td>607.120000</td>\n",
       "      <td>1.756530e+09</td>\n",
       "      <td>6.096070e+10</td>\n",
       "      <td>0.7034</td>\n",
       "      <td>15.24</td>\n",
       "    </tr>\n",
       "    <tr>\n",
       "      <th>4668</th>\n",
       "      <td>ripple</td>\n",
       "      <td>XRP</td>\n",
       "      <td>Ripple</td>\n",
       "      <td>2018-06-06</td>\n",
       "      <td>3</td>\n",
       "      <td>0.677901</td>\n",
       "      <td>0.681668</td>\n",
       "      <td>0.660059</td>\n",
       "      <td>0.674797</td>\n",
       "      <td>2.739660e+08</td>\n",
       "      <td>2.660190e+10</td>\n",
       "      <td>0.6820</td>\n",
       "      <td>0.02</td>\n",
       "    </tr>\n",
       "    <tr>\n",
       "      <th>4987</th>\n",
       "      <td>bitcoin-cash</td>\n",
       "      <td>BCH</td>\n",
       "      <td>Bitcoin Cash</td>\n",
       "      <td>2018-06-06</td>\n",
       "      <td>4</td>\n",
       "      <td>1157.330000</td>\n",
       "      <td>1157.330000</td>\n",
       "      <td>1107.210000</td>\n",
       "      <td>1131.170000</td>\n",
       "      <td>6.085030e+08</td>\n",
       "      <td>1.986880e+10</td>\n",
       "      <td>0.4781</td>\n",
       "      <td>50.12</td>\n",
       "    </tr>\n",
       "    <tr>\n",
       "      <th>5328</th>\n",
       "      <td>eos</td>\n",
       "      <td>EOS</td>\n",
       "      <td>EOS</td>\n",
       "      <td>2018-06-06</td>\n",
       "      <td>5</td>\n",
       "      <td>14.250000</td>\n",
       "      <td>14.260000</td>\n",
       "      <td>13.480000</td>\n",
       "      <td>13.940000</td>\n",
       "      <td>1.022290e+09</td>\n",
       "      <td>1.277380e+10</td>\n",
       "      <td>0.5897</td>\n",
       "      <td>0.78</td>\n",
       "    </tr>\n",
       "  </tbody>\n",
       "</table>\n",
       "</div>"
      ],
      "text/plain": [
       "              slug symbol          name       date  ranknow         open  \\\n",
       "1865       bitcoin    BTC       Bitcoin 2018-06-06        1  7625.970000   \n",
       "2900      ethereum    ETH      Ethereum 2018-06-06        2   610.260000   \n",
       "4668        ripple    XRP        Ripple 2018-06-06        3     0.677901   \n",
       "4987  bitcoin-cash    BCH  Bitcoin Cash 2018-06-06        4  1157.330000   \n",
       "5328           eos    EOS           EOS 2018-06-06        5    14.250000   \n",
       "\n",
       "             high          low        close        volume        market  \\\n",
       "1865  7680.430000  7502.010000  7653.980000  4.692260e+09  1.302330e+11   \n",
       "2900   611.640000   596.400000   607.120000  1.756530e+09  6.096070e+10   \n",
       "4668     0.681668     0.660059     0.674797  2.739660e+08  2.660190e+10   \n",
       "4987  1157.330000  1107.210000  1131.170000  6.085030e+08  1.986880e+10   \n",
       "5328    14.260000    13.480000    13.940000  1.022290e+09  1.277380e+10   \n",
       "\n",
       "      close_ratio  spread  \n",
       "1865       0.8518  178.42  \n",
       "2900       0.7034   15.24  \n",
       "4668       0.6820    0.02  \n",
       "4987       0.4781   50.12  \n",
       "5328       0.5897    0.78  "
      ]
     },
     "execution_count": 47,
     "metadata": {},
     "output_type": "execute_result"
    }
   ],
   "source": [
    "# Get a df containing only the latest date's data for each currency\n",
    "print(\"Latest crypto data\")\n",
    "latest_dm = dm[dm['date'] == max(dm['date'])]\n",
    "latest_dm.head()"
   ]
  },
  {
   "cell_type": "code",
   "execution_count": 49,
   "metadata": {},
   "outputs": [
    {
     "data": {
      "text/plain": [
       "ranknow\n",
       "1          [Bitcoin]\n",
       "2         [Ethereum]\n",
       "3           [Ripple]\n",
       "4     [Bitcoin Cash]\n",
       "5              [EOS]\n",
       "6         [Litecoin]\n",
       "7          [Stellar]\n",
       "8          [Cardano]\n",
       "9             [IOTA]\n",
       "10            [TRON]\n",
       "Name: name, dtype: object"
      ]
     },
     "execution_count": 49,
     "metadata": {},
     "output_type": "execute_result"
    }
   ],
   "source": [
    "x = 10\n",
    "latest_dm[latest_dm['ranknow'] <= x].groupby('ranknow').name.unique()"
   ]
  },
  {
   "cell_type": "code",
   "execution_count": 56,
   "metadata": {},
   "outputs": [],
   "source": [
    "from datetime import datetime, timedelta\n",
    "import matplotlib.dates as mdates\n",
    "from mpl_finance import candlestick_ohlc"
   ]
  },
  {
   "cell_type": "code",
   "execution_count": 57,
   "metadata": {},
   "outputs": [
    {
     "name": "stderr",
     "output_type": "stream",
     "text": [
      "C:\\Users\\User\\Anaconda3\\envs\\py35cu90tf-reply-ai\\lib\\site-packages\\ipykernel_launcher.py:8: SettingWithCopyWarning: \n",
      "A value is trying to be set on a copy of a slice from a DataFrame.\n",
      "Try using .loc[row_indexer,col_indexer] = value instead\n",
      "\n",
      "See the caveats in the documentation: http://pandas.pydata.org/pandas-docs/stable/indexing.html#indexing-view-versus-copy\n",
      "  \n"
     ]
    },
    {
     "data": {
      "image/png": "[encoded data removed]",
      "text/plain": [
       "<Figure size 1080x792 with 1 Axes>"
      ]
     },
     "metadata": {},
     "output_type": "display_data"
    }
   ],
   "source": [
    "# Candlestick chart for Rank 1 currency (limited to 6 Months)# Candle \n",
    "rank = 1    # Indicates 'Bitcoin'\n",
    "months = 6\n",
    "\n",
    "name = dm[dm.ranknow == rank].iloc[-1]['name']\n",
    "filtered_dm = dm[(dm['ranknow'] == rank) & (dm['date'] > (max(dm['date']) - timedelta(days=30*months)))]\n",
    "OHLCfiltered_dm = filtered_dm[['date','open','high','low','close']]\n",
    "OHLCfiltered_dm['date'] = mdates.date2num(OHLCfiltered_dm['date'].dt.date)\n",
    "\n",
    "f,ax=plt.subplots(figsize=(15,11))\n",
    "ax.xaxis_date()\n",
    "candlestick_ohlc(ax, OHLCfiltered_dm.values, width=0.5, colorup='g', colordown='r',alpha=0.75)\n",
    "\n",
    "plt.xlabel(\"Date\")\n",
    "ax.xaxis.set_major_formatter(mdates.DateFormatter('%Y-%m-%d'))\n",
    "plt.gcf().autofmt_xdate()\n",
    "plt.title(name + \" price\")\n",
    "plt.ylabel(\"Price\")\n",
    "plt.show()"
   ]
  },
  {
   "cell_type": "code",
   "execution_count": null,
   "metadata": {},
   "outputs": [],
   "source": []
  }
 ],
 "metadata": {
  "kernelspec": {
   "display_name": "Python 3",
   "language": "python",
   "name": "python3"
  },
  "language_info": {
   "codemirror_mode": {
    "name": "ipython",
    "version": 3
   },
   "file_extension": ".py",
   "mimetype": "text/x-python",
   "name": "python",
   "nbconvert_exporter": "python",
   "pygments_lexer": "ipython3",
   "version": "3.5.5"
  }
 },
 "nbformat": 4,
 "nbformat_minor": 2
}
